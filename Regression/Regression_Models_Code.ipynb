{
  "cells": [
    {
      "cell_type": "markdown",
      "metadata": {
        "id": "3fQSkO3oI-Zj"
      },
      "source": [
        "Code for COMP 551 Mini Project 1! Start off with importing necessary functions"
      ]
    },
    {
      "cell_type": "code",
      "execution_count": 4,
      "metadata": {
        "id": "ngavYaNQ_OWD"
      },
      "outputs": [],
      "source": [
        "# necessary imports \n",
        "import pandas as pd\n",
        "import numpy as np\n",
        "import seaborn as sns\n",
        "\n",
        "# imports for models : ( source Colab Lecture Code )\n",
        "#%matplotlib notebook\n",
        "%matplotlib inline\n",
        "import matplotlib.pyplot as plt\n",
        "from IPython.core.debugger import set_trace\n",
        "import warnings\n",
        "warnings.filterwarnings('ignore')\n",
        "\n",
        "# import the zscore function from scipi\n",
        "\n",
        "from scipy.stats import zscore"
      ]
    },
    {
      "cell_type": "markdown",
      "metadata": {
        "id": "1XO25W_V5tXM"
      },
      "source": [
        "# **TASK 1.1** - Importing  and Understanding the Data\n",
        "\n",
        "\n"
      ]
    },
    {
      "cell_type": "markdown",
      "source": [
        "## Importing the Data\n",
        "\n",
        "The pandas library allows you to import xlsx data directly into python, using the read_excel() function: https://datatofish.com/read_excel/. You can provide it either with a file name or website link. I preffered the method of downloading the file locally and then getting the data from the file. This works more regularly, because I also ran into an issue where the link I created to a file on github expired. "
      ],
      "metadata": {
        "id": "YgRtdCdelB65"
      }
    },
    {
      "cell_type": "code",
      "execution_count": 5,
      "metadata": {
        "id": "lz-Mscji5zsx"
      },
      "outputs": [],
      "source": [
        "# Method using absolute link\n",
        "# energyData = pd.read_excel('https://archive.ics.uci.edu/ml/machine-learning-databases/00242/ENB2012_data.xlsx')\n",
        "# bankData = pd.read_csv('https://raw.githubusercontent.com/sjavaheri/COMP551mp1/master/bankData.txt?token=GHSAT0AAAAAAB6AXE3KOV56RWCQT3YKCSFQY6W6CEA')\n"
      ]
    },
    {
      "cell_type": "markdown",
      "metadata": {
        "id": "Bn83iihWEmFW"
      },
      "source": [
        "We can also directly load the files locally into the environement with curl. The bankData set is a rar file that has to be decompressed with a command as well. The ! at the start of the line is a way to write command line prompts \n",
        "\n",
        "The commented lines only need to be run once to download the files ( I think )\n"
      ]
    },
    {
      "cell_type": "code",
      "execution_count": 6,
      "metadata": {
        "colab": {
          "base_uri": "https://localhost:8080/"
        },
        "id": "fqKSxgSkEsMJ",
        "outputId": "44639aa3-8c65-4a56-a62c-a6ffd359e684"
      },
      "outputs": [
        {
          "output_type": "stream",
          "name": "stdout",
          "text": [
            "  % Total    % Received % Xferd  Average Speed   Time    Time     Time  Current\n",
            "                                 Dload  Upload   Total   Spent    Left  Speed\n",
            "100 76189  100 76189    0     0   184k      0 --:--:-- --:--:-- --:--:--  183k\n",
            "  % Total    % Received % Xferd  Average Speed   Time    Time     Time  Current\n",
            "                                 Dload  Upload   Total   Spent    Left  Speed\n",
            "100  3610  100  3610    0     0  17609      0 --:--:-- --:--:-- --:--:-- 17609\n",
            "Reading package lists... Done\n",
            "Building dependency tree       \n",
            "Reading state information... Done\n",
            "unrar is already the newest version (1:5.6.6-2build1).\n",
            "The following package was automatically installed and is no longer required:\n",
            "  libnvidia-common-510\n",
            "Use 'apt autoremove' to remove it.\n",
            "0 upgraded, 0 newly installed, 0 to remove and 21 not upgraded.\n",
            "\n",
            "UNRAR 5.61 beta 1 freeware      Copyright (c) 1993-2018 Alexander Roshal\n",
            "\n",
            "\n",
            "Extracting from bankData.rar\n",
            "\n",
            "Extracting  Qualitative_Bankruptcy.arff                                  \b\b\b\b 47%\b\b\b\b\b  OK \n",
            "Extracting  Qualitative_Bankruptcy.data.txt                              \b\b\b\b 59%\b\b\b\b\b  OK \n",
            "Extracting  Qualitative_Bankruptcy.info.txt                              \b\b\b\b 95%\b\b\b\b\b  OK \n",
            "All OK\n",
            "Bank Data:\n",
            "     P P.1  A A.1 A.2 P.2  NB\n",
            "0    N   N  A   A   A   N  NB\n",
            "1    A   A  A   A   A   A  NB\n",
            "2    P   P  P   P   P   P  NB\n",
            "3    N   N  P   P   P   N  NB\n",
            "4    A   A  P   P   P   A  NB\n",
            "..  ..  .. ..  ..  ..  ..  ..\n",
            "244  N   N  A   N   N   N   B\n",
            "245  P   N  N   N   N   N   B\n",
            "246  A   N  N   N   N   N   B\n",
            "247  N   N  N   N   N   N   B\n",
            "248  P   N  N   N   A   A   B\n",
            "\n",
            "[249 rows x 7 columns]\n",
            "Energy Data:\n",
            "       X1     X2     X3      X4   X5  X6   X7  X8     Y1     Y2\n",
            "0    0.98  514.5  294.0  110.25  7.0   2  0.0   0  15.55  21.33\n",
            "1    0.98  514.5  294.0  110.25  7.0   3  0.0   0  15.55  21.33\n",
            "2    0.98  514.5  294.0  110.25  7.0   4  0.0   0  15.55  21.33\n",
            "3    0.98  514.5  294.0  110.25  7.0   5  0.0   0  15.55  21.33\n",
            "4    0.90  563.5  318.5  122.50  7.0   2  0.0   0  20.84  28.28\n",
            "..    ...    ...    ...     ...  ...  ..  ...  ..    ...    ...\n",
            "763  0.64  784.0  343.0  220.50  3.5   5  0.4   5  17.88  21.40\n",
            "764  0.62  808.5  367.5  220.50  3.5   2  0.4   5  16.54  16.88\n",
            "765  0.62  808.5  367.5  220.50  3.5   3  0.4   5  16.44  17.11\n",
            "766  0.62  808.5  367.5  220.50  3.5   4  0.4   5  16.48  16.61\n",
            "767  0.62  808.5  367.5  220.50  3.5   5  0.4   5  16.64  16.03\n",
            "\n",
            "[768 rows x 10 columns]\n"
          ]
        }
      ],
      "source": [
        "# Download the files to the local storage on Colab\n",
        "!curl -o energyData.xlsx 'https://archive.ics.uci.edu/ml/machine-learning-databases/00242/ENB2012_data.xlsx'\n",
        "!curl -o bankData.rar 'https://archive.ics.uci.edu/ml/machine-learning-databases/00281/Qualitative_Bankruptcy%20(250%20instances).rar'\n",
        "!apt-get install unrar\n",
        "!unrar e bankData.rar\n",
        "\n",
        "# Creating the pandas dataframes objects \n",
        "energyData = pd.read_excel(\"energyData.xlsx\")\n",
        "bankData = pd.read_csv (\"Qualitative_Bankruptcy.data.txt\")\n",
        "\n",
        "print(\"Bank Data:\")\n",
        "print(bankData)\n",
        "print (\"Energy Data:\")\n",
        "print(energyData)\n",
        "\n",
        "\n"
      ]
    },
    {
      "cell_type": "markdown",
      "metadata": {
        "id": "jIP6gp4wD8H8"
      },
      "source": [
        "## Analysis with Pandas\n",
        "\n",
        "To better understand the datasets, we can look at information about the dataframes:\n"
      ]
    },
    {
      "cell_type": "code",
      "execution_count": 7,
      "metadata": {
        "colab": {
          "base_uri": "https://localhost:8080/"
        },
        "id": "jTa82kokF-0m",
        "outputId": "ac6ff319-0ce8-45eb-f60c-03ea752a4db4"
      },
      "outputs": [
        {
          "output_type": "stream",
          "name": "stdout",
          "text": [
            "Energy Data Information: \n",
            "<class 'pandas.core.frame.DataFrame'>\n",
            "RangeIndex: 768 entries, 0 to 767\n",
            "Data columns (total 10 columns):\n",
            " #   Column  Non-Null Count  Dtype  \n",
            "---  ------  --------------  -----  \n",
            " 0   X1      768 non-null    float64\n",
            " 1   X2      768 non-null    float64\n",
            " 2   X3      768 non-null    float64\n",
            " 3   X4      768 non-null    float64\n",
            " 4   X5      768 non-null    float64\n",
            " 5   X6      768 non-null    int64  \n",
            " 6   X7      768 non-null    float64\n",
            " 7   X8      768 non-null    int64  \n",
            " 8   Y1      768 non-null    float64\n",
            " 9   Y2      768 non-null    float64\n",
            "dtypes: float64(8), int64(2)\n",
            "memory usage: 60.1 KB\n",
            "Bank Data Information:\n",
            "<class 'pandas.core.frame.DataFrame'>\n",
            "RangeIndex: 249 entries, 0 to 248\n",
            "Data columns (total 7 columns):\n",
            " #   Column  Non-Null Count  Dtype \n",
            "---  ------  --------------  ----- \n",
            " 0   P       249 non-null    object\n",
            " 1   P.1     249 non-null    object\n",
            " 2   A       249 non-null    object\n",
            " 3   A.1     249 non-null    object\n",
            " 4   A.2     249 non-null    object\n",
            " 5   P.2     249 non-null    object\n",
            " 6   NB      249 non-null    object\n",
            "dtypes: object(7)\n",
            "memory usage: 13.7+ KB\n"
          ]
        }
      ],
      "source": [
        "print(\"Energy Data Information: \")\n",
        "energyData.info()\n",
        "print (\"Bank Data Information:\")\n",
        "bankData.info()\n",
        "\n",
        "# This prooves that there are no null entires in our dataset, or entries of the wrong type\n"
      ]
    },
    {
      "cell_type": "markdown",
      "metadata": {
        "id": "faCEZymLHeZM"
      },
      "source": [
        "Seeing that the data looks like it doesn't need any cleaning, we can look at key statistics within the data. Key statistics for the energyData are: "
      ]
    },
    {
      "cell_type": "code",
      "execution_count": 8,
      "metadata": {
        "colab": {
          "base_uri": "https://localhost:8080/",
          "height": 300
        },
        "id": "t74SF7PqHkkq",
        "outputId": "d7be7b19-ed16-4ae2-c51a-e60d869b0da0"
      },
      "outputs": [
        {
          "output_type": "execute_result",
          "data": {
            "text/plain": [
              "          X1     X2     X3     X4     X5     X6     X7     X8     Y1     Y2\n",
              "count 768.00 768.00 768.00 768.00 768.00 768.00 768.00 768.00 768.00 768.00\n",
              "mean    0.76 671.71 318.50 176.60   5.25   3.50   0.23   2.81  22.31  24.59\n",
              "std     0.11  88.09  43.63  45.17   1.75   1.12   0.13   1.55  10.09   9.51\n",
              "min     0.62 514.50 245.00 110.25   3.50   2.00   0.00   0.00   6.01  10.90\n",
              "25%     0.68 606.38 294.00 140.88   3.50   2.75   0.10   1.75  12.99  15.62\n",
              "50%     0.75 673.75 318.50 183.75   5.25   3.50   0.25   3.00  18.95  22.08\n",
              "75%     0.83 741.12 343.00 220.50   7.00   4.25   0.40   4.00  31.67  33.13\n",
              "max     0.98 808.50 416.50 220.50   7.00   5.00   0.40   5.00  43.10  48.03"
            ],
            "text/html": [
              "\n",
              "  <div id=\"df-0243892a-f28c-4264-ab0b-fb488c2cacf6\">\n",
              "    <div class=\"colab-df-container\">\n",
              "      <div>\n",
              "<style scoped>\n",
              "    .dataframe tbody tr th:only-of-type {\n",
              "        vertical-align: middle;\n",
              "    }\n",
              "\n",
              "    .dataframe tbody tr th {\n",
              "        vertical-align: top;\n",
              "    }\n",
              "\n",
              "    .dataframe thead th {\n",
              "        text-align: right;\n",
              "    }\n",
              "</style>\n",
              "<table border=\"1\" class=\"dataframe\">\n",
              "  <thead>\n",
              "    <tr style=\"text-align: right;\">\n",
              "      <th></th>\n",
              "      <th>X1</th>\n",
              "      <th>X2</th>\n",
              "      <th>X3</th>\n",
              "      <th>X4</th>\n",
              "      <th>X5</th>\n",
              "      <th>X6</th>\n",
              "      <th>X7</th>\n",
              "      <th>X8</th>\n",
              "      <th>Y1</th>\n",
              "      <th>Y2</th>\n",
              "    </tr>\n",
              "  </thead>\n",
              "  <tbody>\n",
              "    <tr>\n",
              "      <th>count</th>\n",
              "      <td>768.00</td>\n",
              "      <td>768.00</td>\n",
              "      <td>768.00</td>\n",
              "      <td>768.00</td>\n",
              "      <td>768.00</td>\n",
              "      <td>768.00</td>\n",
              "      <td>768.00</td>\n",
              "      <td>768.00</td>\n",
              "      <td>768.00</td>\n",
              "      <td>768.00</td>\n",
              "    </tr>\n",
              "    <tr>\n",
              "      <th>mean</th>\n",
              "      <td>0.76</td>\n",
              "      <td>671.71</td>\n",
              "      <td>318.50</td>\n",
              "      <td>176.60</td>\n",
              "      <td>5.25</td>\n",
              "      <td>3.50</td>\n",
              "      <td>0.23</td>\n",
              "      <td>2.81</td>\n",
              "      <td>22.31</td>\n",
              "      <td>24.59</td>\n",
              "    </tr>\n",
              "    <tr>\n",
              "      <th>std</th>\n",
              "      <td>0.11</td>\n",
              "      <td>88.09</td>\n",
              "      <td>43.63</td>\n",
              "      <td>45.17</td>\n",
              "      <td>1.75</td>\n",
              "      <td>1.12</td>\n",
              "      <td>0.13</td>\n",
              "      <td>1.55</td>\n",
              "      <td>10.09</td>\n",
              "      <td>9.51</td>\n",
              "    </tr>\n",
              "    <tr>\n",
              "      <th>min</th>\n",
              "      <td>0.62</td>\n",
              "      <td>514.50</td>\n",
              "      <td>245.00</td>\n",
              "      <td>110.25</td>\n",
              "      <td>3.50</td>\n",
              "      <td>2.00</td>\n",
              "      <td>0.00</td>\n",
              "      <td>0.00</td>\n",
              "      <td>6.01</td>\n",
              "      <td>10.90</td>\n",
              "    </tr>\n",
              "    <tr>\n",
              "      <th>25%</th>\n",
              "      <td>0.68</td>\n",
              "      <td>606.38</td>\n",
              "      <td>294.00</td>\n",
              "      <td>140.88</td>\n",
              "      <td>3.50</td>\n",
              "      <td>2.75</td>\n",
              "      <td>0.10</td>\n",
              "      <td>1.75</td>\n",
              "      <td>12.99</td>\n",
              "      <td>15.62</td>\n",
              "    </tr>\n",
              "    <tr>\n",
              "      <th>50%</th>\n",
              "      <td>0.75</td>\n",
              "      <td>673.75</td>\n",
              "      <td>318.50</td>\n",
              "      <td>183.75</td>\n",
              "      <td>5.25</td>\n",
              "      <td>3.50</td>\n",
              "      <td>0.25</td>\n",
              "      <td>3.00</td>\n",
              "      <td>18.95</td>\n",
              "      <td>22.08</td>\n",
              "    </tr>\n",
              "    <tr>\n",
              "      <th>75%</th>\n",
              "      <td>0.83</td>\n",
              "      <td>741.12</td>\n",
              "      <td>343.00</td>\n",
              "      <td>220.50</td>\n",
              "      <td>7.00</td>\n",
              "      <td>4.25</td>\n",
              "      <td>0.40</td>\n",
              "      <td>4.00</td>\n",
              "      <td>31.67</td>\n",
              "      <td>33.13</td>\n",
              "    </tr>\n",
              "    <tr>\n",
              "      <th>max</th>\n",
              "      <td>0.98</td>\n",
              "      <td>808.50</td>\n",
              "      <td>416.50</td>\n",
              "      <td>220.50</td>\n",
              "      <td>7.00</td>\n",
              "      <td>5.00</td>\n",
              "      <td>0.40</td>\n",
              "      <td>5.00</td>\n",
              "      <td>43.10</td>\n",
              "      <td>48.03</td>\n",
              "    </tr>\n",
              "  </tbody>\n",
              "</table>\n",
              "</div>\n",
              "      <button class=\"colab-df-convert\" onclick=\"convertToInteractive('df-0243892a-f28c-4264-ab0b-fb488c2cacf6')\"\n",
              "              title=\"Convert this dataframe to an interactive table.\"\n",
              "              style=\"display:none;\">\n",
              "        \n",
              "  <svg xmlns=\"http://www.w3.org/2000/svg\" height=\"24px\"viewBox=\"0 0 24 24\"\n",
              "       width=\"24px\">\n",
              "    <path d=\"M0 0h24v24H0V0z\" fill=\"none\"/>\n",
              "    <path d=\"M18.56 5.44l.94 2.06.94-2.06 2.06-.94-2.06-.94-.94-2.06-.94 2.06-2.06.94zm-11 1L8.5 8.5l.94-2.06 2.06-.94-2.06-.94L8.5 2.5l-.94 2.06-2.06.94zm10 10l.94 2.06.94-2.06 2.06-.94-2.06-.94-.94-2.06-.94 2.06-2.06.94z\"/><path d=\"M17.41 7.96l-1.37-1.37c-.4-.4-.92-.59-1.43-.59-.52 0-1.04.2-1.43.59L10.3 9.45l-7.72 7.72c-.78.78-.78 2.05 0 2.83L4 21.41c.39.39.9.59 1.41.59.51 0 1.02-.2 1.41-.59l7.78-7.78 2.81-2.81c.8-.78.8-2.07 0-2.86zM5.41 20L4 18.59l7.72-7.72 1.47 1.35L5.41 20z\"/>\n",
              "  </svg>\n",
              "      </button>\n",
              "      \n",
              "  <style>\n",
              "    .colab-df-container {\n",
              "      display:flex;\n",
              "      flex-wrap:wrap;\n",
              "      gap: 12px;\n",
              "    }\n",
              "\n",
              "    .colab-df-convert {\n",
              "      background-color: #E8F0FE;\n",
              "      border: none;\n",
              "      border-radius: 50%;\n",
              "      cursor: pointer;\n",
              "      display: none;\n",
              "      fill: #1967D2;\n",
              "      height: 32px;\n",
              "      padding: 0 0 0 0;\n",
              "      width: 32px;\n",
              "    }\n",
              "\n",
              "    .colab-df-convert:hover {\n",
              "      background-color: #E2EBFA;\n",
              "      box-shadow: 0px 1px 2px rgba(60, 64, 67, 0.3), 0px 1px 3px 1px rgba(60, 64, 67, 0.15);\n",
              "      fill: #174EA6;\n",
              "    }\n",
              "\n",
              "    [theme=dark] .colab-df-convert {\n",
              "      background-color: #3B4455;\n",
              "      fill: #D2E3FC;\n",
              "    }\n",
              "\n",
              "    [theme=dark] .colab-df-convert:hover {\n",
              "      background-color: #434B5C;\n",
              "      box-shadow: 0px 1px 3px 1px rgba(0, 0, 0, 0.15);\n",
              "      filter: drop-shadow(0px 1px 2px rgba(0, 0, 0, 0.3));\n",
              "      fill: #FFFFFF;\n",
              "    }\n",
              "  </style>\n",
              "\n",
              "      <script>\n",
              "        const buttonEl =\n",
              "          document.querySelector('#df-0243892a-f28c-4264-ab0b-fb488c2cacf6 button.colab-df-convert');\n",
              "        buttonEl.style.display =\n",
              "          google.colab.kernel.accessAllowed ? 'block' : 'none';\n",
              "\n",
              "        async function convertToInteractive(key) {\n",
              "          const element = document.querySelector('#df-0243892a-f28c-4264-ab0b-fb488c2cacf6');\n",
              "          const dataTable =\n",
              "            await google.colab.kernel.invokeFunction('convertToInteractive',\n",
              "                                                     [key], {});\n",
              "          if (!dataTable) return;\n",
              "\n",
              "          const docLinkHtml = 'Like what you see? Visit the ' +\n",
              "            '<a target=\"_blank\" href=https://colab.research.google.com/notebooks/data_table.ipynb>data table notebook</a>'\n",
              "            + ' to learn more about interactive tables.';\n",
              "          element.innerHTML = '';\n",
              "          dataTable['output_type'] = 'display_data';\n",
              "          await google.colab.output.renderOutput(dataTable, element);\n",
              "          const docLink = document.createElement('div');\n",
              "          docLink.innerHTML = docLinkHtml;\n",
              "          element.appendChild(docLink);\n",
              "        }\n",
              "      </script>\n",
              "    </div>\n",
              "  </div>\n",
              "  "
            ]
          },
          "metadata": {},
          "execution_count": 8
        }
      ],
      "source": [
        "# describe the non normalized data\n",
        "pd.set_option('display.float_format', lambda x: '%.2f' % x)\n",
        "energyData.describe()\n"
      ]
    },
    {
      "cell_type": "markdown",
      "metadata": {
        "id": "NQHlSvHUILwL"
      },
      "source": [
        "Key statistics for the Bank Data are: \n"
      ]
    },
    {
      "cell_type": "code",
      "execution_count": 9,
      "metadata": {
        "colab": {
          "base_uri": "https://localhost:8080/",
          "height": 174
        },
        "id": "y8J52wksIRRb",
        "outputId": "f4fe9849-d3cc-4f62-f70e-2393e50e5d16"
      },
      "outputs": [
        {
          "output_type": "execute_result",
          "data": {
            "text/plain": [
              "          P  P.1    A  A.1  A.2  P.2   NB\n",
              "count   249  249  249  249  249  249  249\n",
              "unique    3    3    3    3    3    3    2\n",
              "top       N    N    N    N    N    N   NB\n",
              "freq     89  119  119   94  103  114  142"
            ],
            "text/html": [
              "\n",
              "  <div id=\"df-e03c5963-7117-46d8-9334-b71b8e140e01\">\n",
              "    <div class=\"colab-df-container\">\n",
              "      <div>\n",
              "<style scoped>\n",
              "    .dataframe tbody tr th:only-of-type {\n",
              "        vertical-align: middle;\n",
              "    }\n",
              "\n",
              "    .dataframe tbody tr th {\n",
              "        vertical-align: top;\n",
              "    }\n",
              "\n",
              "    .dataframe thead th {\n",
              "        text-align: right;\n",
              "    }\n",
              "</style>\n",
              "<table border=\"1\" class=\"dataframe\">\n",
              "  <thead>\n",
              "    <tr style=\"text-align: right;\">\n",
              "      <th></th>\n",
              "      <th>P</th>\n",
              "      <th>P.1</th>\n",
              "      <th>A</th>\n",
              "      <th>A.1</th>\n",
              "      <th>A.2</th>\n",
              "      <th>P.2</th>\n",
              "      <th>NB</th>\n",
              "    </tr>\n",
              "  </thead>\n",
              "  <tbody>\n",
              "    <tr>\n",
              "      <th>count</th>\n",
              "      <td>249</td>\n",
              "      <td>249</td>\n",
              "      <td>249</td>\n",
              "      <td>249</td>\n",
              "      <td>249</td>\n",
              "      <td>249</td>\n",
              "      <td>249</td>\n",
              "    </tr>\n",
              "    <tr>\n",
              "      <th>unique</th>\n",
              "      <td>3</td>\n",
              "      <td>3</td>\n",
              "      <td>3</td>\n",
              "      <td>3</td>\n",
              "      <td>3</td>\n",
              "      <td>3</td>\n",
              "      <td>2</td>\n",
              "    </tr>\n",
              "    <tr>\n",
              "      <th>top</th>\n",
              "      <td>N</td>\n",
              "      <td>N</td>\n",
              "      <td>N</td>\n",
              "      <td>N</td>\n",
              "      <td>N</td>\n",
              "      <td>N</td>\n",
              "      <td>NB</td>\n",
              "    </tr>\n",
              "    <tr>\n",
              "      <th>freq</th>\n",
              "      <td>89</td>\n",
              "      <td>119</td>\n",
              "      <td>119</td>\n",
              "      <td>94</td>\n",
              "      <td>103</td>\n",
              "      <td>114</td>\n",
              "      <td>142</td>\n",
              "    </tr>\n",
              "  </tbody>\n",
              "</table>\n",
              "</div>\n",
              "      <button class=\"colab-df-convert\" onclick=\"convertToInteractive('df-e03c5963-7117-46d8-9334-b71b8e140e01')\"\n",
              "              title=\"Convert this dataframe to an interactive table.\"\n",
              "              style=\"display:none;\">\n",
              "        \n",
              "  <svg xmlns=\"http://www.w3.org/2000/svg\" height=\"24px\"viewBox=\"0 0 24 24\"\n",
              "       width=\"24px\">\n",
              "    <path d=\"M0 0h24v24H0V0z\" fill=\"none\"/>\n",
              "    <path d=\"M18.56 5.44l.94 2.06.94-2.06 2.06-.94-2.06-.94-.94-2.06-.94 2.06-2.06.94zm-11 1L8.5 8.5l.94-2.06 2.06-.94-2.06-.94L8.5 2.5l-.94 2.06-2.06.94zm10 10l.94 2.06.94-2.06 2.06-.94-2.06-.94-.94-2.06-.94 2.06-2.06.94z\"/><path d=\"M17.41 7.96l-1.37-1.37c-.4-.4-.92-.59-1.43-.59-.52 0-1.04.2-1.43.59L10.3 9.45l-7.72 7.72c-.78.78-.78 2.05 0 2.83L4 21.41c.39.39.9.59 1.41.59.51 0 1.02-.2 1.41-.59l7.78-7.78 2.81-2.81c.8-.78.8-2.07 0-2.86zM5.41 20L4 18.59l7.72-7.72 1.47 1.35L5.41 20z\"/>\n",
              "  </svg>\n",
              "      </button>\n",
              "      \n",
              "  <style>\n",
              "    .colab-df-container {\n",
              "      display:flex;\n",
              "      flex-wrap:wrap;\n",
              "      gap: 12px;\n",
              "    }\n",
              "\n",
              "    .colab-df-convert {\n",
              "      background-color: #E8F0FE;\n",
              "      border: none;\n",
              "      border-radius: 50%;\n",
              "      cursor: pointer;\n",
              "      display: none;\n",
              "      fill: #1967D2;\n",
              "      height: 32px;\n",
              "      padding: 0 0 0 0;\n",
              "      width: 32px;\n",
              "    }\n",
              "\n",
              "    .colab-df-convert:hover {\n",
              "      background-color: #E2EBFA;\n",
              "      box-shadow: 0px 1px 2px rgba(60, 64, 67, 0.3), 0px 1px 3px 1px rgba(60, 64, 67, 0.15);\n",
              "      fill: #174EA6;\n",
              "    }\n",
              "\n",
              "    [theme=dark] .colab-df-convert {\n",
              "      background-color: #3B4455;\n",
              "      fill: #D2E3FC;\n",
              "    }\n",
              "\n",
              "    [theme=dark] .colab-df-convert:hover {\n",
              "      background-color: #434B5C;\n",
              "      box-shadow: 0px 1px 3px 1px rgba(0, 0, 0, 0.15);\n",
              "      filter: drop-shadow(0px 1px 2px rgba(0, 0, 0, 0.3));\n",
              "      fill: #FFFFFF;\n",
              "    }\n",
              "  </style>\n",
              "\n",
              "      <script>\n",
              "        const buttonEl =\n",
              "          document.querySelector('#df-e03c5963-7117-46d8-9334-b71b8e140e01 button.colab-df-convert');\n",
              "        buttonEl.style.display =\n",
              "          google.colab.kernel.accessAllowed ? 'block' : 'none';\n",
              "\n",
              "        async function convertToInteractive(key) {\n",
              "          const element = document.querySelector('#df-e03c5963-7117-46d8-9334-b71b8e140e01');\n",
              "          const dataTable =\n",
              "            await google.colab.kernel.invokeFunction('convertToInteractive',\n",
              "                                                     [key], {});\n",
              "          if (!dataTable) return;\n",
              "\n",
              "          const docLinkHtml = 'Like what you see? Visit the ' +\n",
              "            '<a target=\"_blank\" href=https://colab.research.google.com/notebooks/data_table.ipynb>data table notebook</a>'\n",
              "            + ' to learn more about interactive tables.';\n",
              "          element.innerHTML = '';\n",
              "          dataTable['output_type'] = 'display_data';\n",
              "          await google.colab.output.renderOutput(dataTable, element);\n",
              "          const docLink = document.createElement('div');\n",
              "          docLink.innerHTML = docLinkHtml;\n",
              "          element.appendChild(docLink);\n",
              "        }\n",
              "      </script>\n",
              "    </div>\n",
              "  </div>\n",
              "  "
            ]
          },
          "metadata": {},
          "execution_count": 9
        }
      ],
      "source": [
        "# bank data description \n",
        "bankData.describe()"
      ]
    },
    {
      "cell_type": "markdown",
      "metadata": {
        "id": "DTGrFxsEItFd"
      },
      "source": [
        "We can also see the number of unique entries into the energyData collumns: \n"
      ]
    },
    {
      "cell_type": "code",
      "execution_count": 10,
      "metadata": {
        "colab": {
          "base_uri": "https://localhost:8080/"
        },
        "id": "_Mwy5cFlIxJI",
        "outputId": "f9ac3f91-9499-4670-c392-88fcef5a85bd"
      },
      "outputs": [
        {
          "output_type": "execute_result",
          "data": {
            "text/plain": [
              "X1     12\n",
              "X2     12\n",
              "X3      7\n",
              "X4      4\n",
              "X5      2\n",
              "X6      4\n",
              "X7      4\n",
              "X8      6\n",
              "Y1    587\n",
              "Y2    636\n",
              "dtype: int64"
            ]
          },
          "metadata": {},
          "execution_count": 10
        }
      ],
      "source": [
        "\n",
        "energyData.nunique()\n",
        "\n",
        "# X5 has two values, 3.5 and 7.0, with a 50% split between these values"
      ]
    },
    {
      "cell_type": "markdown",
      "metadata": {
        "id": "7lSp782MJJZQ"
      },
      "source": [
        "We can do the same thing for the bankData"
      ]
    },
    {
      "cell_type": "code",
      "execution_count": 11,
      "metadata": {
        "colab": {
          "base_uri": "https://localhost:8080/"
        },
        "id": "NrPo2yEXJLuP",
        "outputId": "d6106fc6-fd62-467c-fc90-dfe8df0d1899"
      },
      "outputs": [
        {
          "output_type": "execute_result",
          "data": {
            "text/plain": [
              "P      3\n",
              "P.1    3\n",
              "A      3\n",
              "A.1    3\n",
              "A.2    3\n",
              "P.2    3\n",
              "NB     2\n",
              "dtype: int64"
            ]
          },
          "metadata": {},
          "execution_count": 11
        }
      ],
      "source": [
        "bankData.nunique()"
      ]
    },
    {
      "cell_type": "markdown",
      "metadata": {
        "id": "sF2aWSAE9BJs"
      },
      "source": [
        "## Visualizations of Data \n",
        "\n",
        "We can also find different ways of visualizing the data. We can plot a correlation matrix to see how the features are interrelated. Can only work with numeric data - perhaps have to explore using One Hot Encoding to make the bank data 'numeric'"
      ]
    },
    {
      "cell_type": "code",
      "execution_count": 12,
      "metadata": {
        "colab": {
          "base_uri": "https://localhost:8080/",
          "height": 298
        },
        "id": "wktT5KDI-3G_",
        "outputId": "a1891c04-3f69-4809-c314-f50a99b65260"
      },
      "outputs": [
        {
          "output_type": "execute_result",
          "data": {
            "text/plain": [
              "Text(0.5, 1.0, 'Energy Data Correlation Matrix')"
            ]
          },
          "metadata": {},
          "execution_count": 12
        },
        {
          "output_type": "display_data",
          "data": {
            "text/plain": [
              "<Figure size 432x288 with 2 Axes>"
            ],
            "image/png": "[encoded data removed]"
          },
          "metadata": {
            "needs_background": "light"
          }
        }
      ],
      "source": [
        "# calculate the energy correlation matrix\n",
        "energyCor = energyData.corr()\n",
        "\n",
        "# print (energyCor) - this is hard to follow. Use seaborn to visualize instead\n",
        "\n",
        "# round the values in the matrix to 2 decimal places\n",
        "energyCor = energyCor.round(decimals=2)\n",
        "\n",
        "# create the heatmap\n",
        "sns.heatmap(energyCor, annot=True)\n",
        "plt.title(\"Energy Data Correlation Matrix\")"
      ]
    },
    {
      "cell_type": "markdown",
      "metadata": {
        "id": "ZRzu6nm5Cl8R"
      },
      "source": [
        "We can also try and find the most important two features in the data, so that we can create scatter plots and other visualizations to better understand these two key features. \n",
        "\n",
        "We can do this by calculating the Z score of each variable. This measures how far away that data is on average from the mean, measured in terms of the number of standard deviations. Data with higher Z scores is likely to indicate data that is most likely to affect predictions in a model. "
      ]
    },
    {
      "cell_type": "code",
      "execution_count": 13,
      "metadata": {
        "colab": {
          "base_uri": "https://localhost:8080/"
        },
        "id": "NkSSW8xoCz3f",
        "outputId": "3418c1d8-bf3a-4d76-e310-58745acb096e"
      },
      "outputs": [
        {
          "output_type": "stream",
          "name": "stdout",
          "text": [
            "X5   1.00\n",
            "X4   0.97\n",
            "Y1   0.91\n",
            "Y2   0.90\n",
            "X6   0.89\n",
            "X8   0.86\n",
            "X2   0.86\n",
            "X7   0.85\n",
            "X1   0.83\n",
            "X3   0.75\n",
            "dtype: float64\n"
          ]
        }
      ],
      "source": [
        "# apply the zscore function \n",
        "energyZscore = energyData.apply(zscore)\n",
        "\n",
        "# make the zscore values absolute\n",
        "energyZabsolute = abs(energyZscore)\n",
        "\n",
        "# sort the features based on Z score\n",
        "energyZabsolute = energyZabsolute.mean().sort_values(ascending=False)\n",
        "\n",
        "print(energyZabsolute)\n",
        "\n"
      ]
    },
    {
      "cell_type": "markdown",
      "metadata": {
        "id": "qwiUanlwFRR0"
      },
      "source": [
        "Now that we know that X5 and X4 are the most important features in the data set, we can plot them against eachother. However, we see that it seems most features are pretty similar to eachother and they might all be important"
      ]
    },
    {
      "cell_type": "code",
      "execution_count": 14,
      "metadata": {
        "colab": {
          "base_uri": "https://localhost:8080/",
          "height": 279
        },
        "id": "1i3t4eoDHAMu",
        "outputId": "4c78c7f4-1d94-41df-c611-fcd75c1d4c1e"
      },
      "outputs": [
        {
          "output_type": "display_data",
          "data": {
            "text/plain": [
              "<Figure size 432x288 with 1 Axes>"
            ],
            "image/png": "[encoded data removed]"
          },
          "metadata": {
            "needs_background": "light"
          }
        }
      ],
      "source": [
        "# set the x and y values as the two most important features\n",
        "# we concluded that X5 has two possible values with a 50% split, but here it shows\n",
        "# that when X5\n",
        "x = energyData['X4']\n",
        "y = energyData['X5']\n",
        "\n",
        "# plot X4 vs. X5\n",
        "plt.scatter (x,y)\n",
        "\n",
        "# label the plot\n",
        "plt.xlabel('X4')\n",
        "plt.ylabel('X5')\n",
        "\n",
        "# show the plot\n",
        "plt.show()\n"
      ]
    },
    {
      "cell_type": "markdown",
      "metadata": {
        "id": "gZ2qk6qAiH24"
      },
      "source": [
        "Do the same thing for the next two highest variables: "
      ]
    },
    {
      "cell_type": "code",
      "execution_count": 15,
      "metadata": {
        "colab": {
          "base_uri": "https://localhost:8080/",
          "height": 279
        },
        "id": "0OJNO4MqiKnW",
        "outputId": "41084472-5f0b-437f-9390-aa31d47e0450"
      },
      "outputs": [
        {
          "output_type": "display_data",
          "data": {
            "text/plain": [
              "<Figure size 432x288 with 1 Axes>"
            ],
            "image/png": "[encoded data removed]"
          },
          "metadata": {
            "needs_background": "light"
          }
        }
      ],
      "source": [
        "# set the x and y values as the two most important features\n",
        "x = energyData['X6']\n",
        "y = energyData['X8']\n",
        "\n",
        "# plot X6 vs. X8\n",
        "plt.scatter (x,y)\n",
        "\n",
        "# label the plot\n",
        "plt.xlabel('X6')\n",
        "plt.ylabel('X8')\n",
        "\n",
        "# show the plot\n",
        "plt.show()\n"
      ]
    },
    {
      "cell_type": "code",
      "execution_count": 16,
      "metadata": {
        "colab": {
          "base_uri": "https://localhost:8080/",
          "height": 279
        },
        "id": "xzrl-jAf1z0_",
        "outputId": "b5f05d88-8762-470e-cc20-8a3d44b12988"
      },
      "outputs": [
        {
          "output_type": "display_data",
          "data": {
            "text/plain": [
              "<Figure size 432x288 with 1 Axes>"
            ],
            "image/png": "[encoded data removed]"
          },
          "metadata": {
            "needs_background": "light"
          }
        }
      ],
      "source": [
        "# Plotting X1 vs. X2 to show their correlation is -0.99 - and that we can eliminate X2\n",
        "x = energyData['X1']\n",
        "y = energyData['X2']\n",
        "\n",
        "# plot X1 vs. X2\n",
        "plt.scatter (x,y)\n",
        "\n",
        "# label the plot\n",
        "plt.xlabel('X1')\n",
        "plt.ylabel('X2')\n",
        "\n",
        "# show the plot\n",
        "plt.show()"
      ]
    },
    {
      "cell_type": "markdown",
      "source": [
        "# **TASK 1.2** - Normalizing and Feature Selection"
      ],
      "metadata": {
        "id": "QLrB5J2TmtX-"
      }
    },
    {
      "cell_type": "markdown",
      "source": [
        "After all this analysis, we can see and understand patterns in the data. However, all the data have very different means and standard deviations, which indicates that it would be good to normalize it so that all collumns have a mean of 0 and a standard deviation of 1. We can do this by converting the energy data to a numpy array and using the built in mean and standard deviation formulae to normalize each collumn. We will make two arrays: the features (X1 - X8) and their outputs (Y1 - Y2). We will only normalize the features. In the future, the data can be accessed with the following variables:\n",
        "\n",
        "`features` a numpy array with X1 - X8 **not** normalized\n",
        "\n",
        "`nfeatures` a numpy array with X1 - X8 normalized\n",
        "\n",
        "`bfeatures` a numpy array with X1, X3, X5, X7. Some features were eliminated. X2, X4 were eliminated due to high coorelation with other input features. X6, X8 were eliminated due to no corelation with the output\n",
        "\n",
        "This is backed up by doing Lasso Regularization, which eliminates all features except X4 and X5 when l = 3. Given X5 has higher weights than X4, we chose to eliminate X4\n",
        "\n",
        "`outputs` a numpy array with Y1 and Y2"
      ],
      "metadata": {
        "id": "8s77rG9lyHr7"
      }
    },
    {
      "cell_type": "code",
      "source": [
        "# convert to numpy array \n",
        "energyDataNumpy = energyData.values\n",
        "# index into first 8 collumns\n",
        "features = energyDataNumpy[:,:-2]\n",
        "# index into last two collumns\n",
        "outputs = energyDataNumpy[:,-2:]\n",
        "\n",
        "nfeatures = (features - features.mean(axis=0)) / features.std(axis=0)\n",
        "\n",
        "bfeatures = nfeatures[:,[0,2,4,6]]\n",
        "# print (\"Features: \")\n",
        "# print (features)\n",
        "# print(\"\\n Normalized Features: \")\n",
        "# print(nfeatures)\n",
        "# print (\"\\n Outputs: \")\n",
        "# print ( outputs)"
      ],
      "metadata": {
        "id": "M1zU4lMnnUdJ"
      },
      "execution_count": 17,
      "outputs": []
    },
    {
      "cell_type": "markdown",
      "metadata": {
        "id": "WatNzZkqKGaQ"
      },
      "source": [
        "# **TASK 2.1** Analytical Linear Regression for Energy Data"
      ]
    },
    {
      "cell_type": "markdown",
      "metadata": {
        "id": "4ZcIw9jnBZGM"
      },
      "source": [
        "## Linear Regression Class\n",
        "The code for the Linear Regression class was provided in the class notebooks. We added the extra funcitonality using regularization with Lasso Regularization for feature selection. In addition, we used the ADAM algorithm for the gradient descent to give a momentum and adaptive learning rate to the gradient descent function. \n",
        "\n",
        "*   `fit`: Fit the data using the closed form solution \n",
        "*   `fitGradientDescent`: Fit the data using the gradient descent\n",
        "*   `fitLasso`: fit using lasso regularization for gradient descent. \n",
        "* `fitMiniBatch`: fit using mini batch gradient descent\n",
        "*   `fitADAM`: Fit the data using the ADAM algorithm\n",
        "*   `predict`: Assuming the weights were previously calculated, predict output given an input\n",
        "* `cost` : calculate the cost of predicted values against the actual values. Mean Squared Error is used\n",
        "\n",
        "Note: The code for **fitLasso** was duplicated from **fit** to sepatate concerns and to keep the code efficient.\n",
        "\n",
        "All models for linear regression that use gradient descent take in a parameter called an `optimizer`. This is a object or instance of the class `GradientDescent`, which extrapolates the calculation of the gradient to allow us to use different functions for different techniques. \n",
        "\n",
        " An optimizer object has a defined method called run: `optimizer.run(self, gradient_fn, x, y, w)` which takes in: \n",
        "\n",
        "* `gradient_fn` a method of computing the gradient\n",
        "* `x` the x values\n",
        "* `y` the y values \n",
        "* `w` the current weight values\n",
        "\n"
      ]
    },
    {
      "cell_type": "code",
      "execution_count": 18,
      "metadata": {
        "id": "XK5yoUSQKK8k"
      },
      "outputs": [],
      "source": [
        "class LinearRegression:\n",
        "    def __init__(self, add_bias=True, lambdaa=0.1):\n",
        "        # add bias parameter is intitualized to true\n",
        "        self.add_bias = add_bias\n",
        "\n",
        "        # Add a regularization parameter for Lasso Regression\n",
        "        self.lambdaa = lambdaa\n",
        "        pass\n",
        "\n",
        "    # Fit with closed form solution ( Analytical Linear Regression )\n",
        "    # In this case we do not need to pass in an optimizer, because we are using the closed form solution\n",
        "    def fit(self, x, y):\n",
        "        if x.ndim == 1:\n",
        "            # add a dimension to features\n",
        "            x = x[:, None]\n",
        "        N = x.shape[0]\n",
        "        if self.add_bias:\n",
        "            # add constant feature of value 1 for w0, to indicate the bias\n",
        "            x = np.column_stack([x, np.ones(N)])\n",
        "\n",
        "        # use the closed form solution with matrix notation\n",
        "        self.w = np.linalg.inv(x.T @ x)@ x.T @ y\n",
        "        # self.w =( np.matmul(np.matmul( np.linalg.inv(np.matmul(x.transpose(), x)), x.transpose()), y) )\n",
        "        # note from numpy documenation: this method automatically normalizes the data before it performs the multiplication\n",
        "        # self.w = np.linalg.lstsq(x, y)\n",
        "        return self\n",
        "\n",
        "    # Fit with gradient descent\n",
        "    # In this case, we pass in an optimizer so that we can use gradient descent\n",
        "    def fitGradientDescent(self, x, y, optimizer):\n",
        "        # adjust the dimesions of x and y to become matricies if needed\n",
        "        if x.ndim == 1:\n",
        "            x = x[:, None]\n",
        "\n",
        "        # add bias if it is necessary\n",
        "        if self.add_bias:\n",
        "            N = x.shape[0]\n",
        "            x = np.column_stack([x, np.ones(N)])\n",
        "        N, D = x.shape\n",
        "\n",
        "        # Gradient function over all data to pass to the optimizer\n",
        "        # This gradient function uses all of the data points to compute a gradient value\n",
        "        # X has dimension N * D (768 * 8)\n",
        "        # Y has dimension  N * a ( 768 * a )\n",
        "        # w has dimesion D * a ( 8 * a)\n",
        "        def gradient(x, y, w):\n",
        "            # yh has dimension ( N * D ) * ( D * a ) = (N * a)\n",
        "            yh = x @ w\n",
        "\n",
        "            N, D = x.shape\n",
        "\n",
        "            # (yh - y) has dimension N * a\n",
        "            #  grad has dimension (D * N) * (N * a) = D * a\n",
        "            grad = np.dot(x.T, yh - y) / N\n",
        "            return grad\n",
        "\n",
        "        # initial weights for gradient descent. Make sure they have a dimension D * width of y\n",
        "        row, col = y.shape\n",
        "        if col == 1: \n",
        "          w0 = np.zeros(D)[0:,None]\n",
        "        else: \n",
        "          w0 = np.zeros((D,col))\n",
        "\n",
        "        # Optimal weights resulting from gradient descent\n",
        "        self.w = optimizer.run(gradient, x, y, w0)\n",
        "        return self\n",
        "\n",
        "    # Fit Lasso Regression with gradient descent\n",
        "    def fitLasso(self, x, y, optimizer):\n",
        "        if x.ndim == 1:\n",
        "            x = x[:, None]\n",
        "        if self.add_bias:\n",
        "            N = x.shape[0]\n",
        "            x = np.column_stack([x, np.ones(N)])\n",
        "        N, D = x.shape\n",
        "        # Gradient function over all data with L1 regularization\n",
        "        def gradient(x, y, w):\n",
        "            yh = x @ w\n",
        "            N, D = x.shape\n",
        "            grad = 0.5 * np.dot(x.T, yh - y) / N\n",
        "            # L1 for Lasso (ignoring w0)\n",
        "            # We use the np.sign function to determine the weights of the regularization factor\n",
        "            # It returns 1 for +ve numbrers, -1 for -ve, 0 for 0. \n",
        "            grad[:D] += self.lambdaa * np.sign(w[:D])\n",
        "            return grad\n",
        "\n",
        "        # initial weights - made to be D * columns of y dimensional\n",
        "        row, col = y.shape\n",
        "        if col == 1: \n",
        "          w0 = np.zeros(D)[0:,None]\n",
        "        else: \n",
        "          w0 = np.zeros((D,col))\n",
        "        # Optimal weights form gradient descent\n",
        "        self.w = optimizer.run(gradient, x, y, w0)\n",
        "        return self\n",
        "\n",
        "    # Fit with gradient descent\n",
        "    def fitADAM(self, x, y, optimizer, batch_size):\n",
        "        if x.ndim == 1:\n",
        "            x = x[:, None]\n",
        "        if y.ndim == 1:\n",
        "            y = y[:, None]\n",
        "        if self.add_bias:\n",
        "            N = x.shape[0]\n",
        "            x = np.column_stack([x, np.ones(N)])\n",
        "        # Optimal weights form gradient descent with Adam\n",
        "        # No need to pass a gradient function to the adam method\n",
        "        self.w = optimizer.runADAM(x, y, batch_size)\n",
        "        return self\n",
        "\n",
        "    # Fit with mini-batch gradient descent\n",
        "    def fitMiniBatch(self, x, y, optimizer, batch_size):\n",
        "        if x.ndim == 1:\n",
        "            x = x[:, None]\n",
        "        if y.ndim == 1:\n",
        "            y = y[:, None]\n",
        "        if self.add_bias:\n",
        "            N = x.shape[0]\n",
        "            x = np.column_stack([x, np.ones(N)])\n",
        "        # Optimal weights form gradient descent with miniBatch\n",
        "        self.w = optimizer.runMiniBatch(x, y, batch_size)\n",
        "        return self\n",
        "\n",
        "    def predict(self, x):\n",
        "        N = x.shape[0]\n",
        "        if self.add_bias:\n",
        "            x = np.column_stack([x, np.ones(N)])\n",
        "        # predictions are a result of a matrix multiplication between x and the weight vector\n",
        "        yh = x @ self.w\n",
        "        return yh\n",
        "\n",
        "    def cost(self, yh, y):\n",
        "        #yh = self.predict(x)\n",
        "        return np.mean((yh - y) ** 2)\n",
        "        # return 0.5 * np.mean((yh - y) ** 2)\n",
        "\n"
      ]
    },
    {
      "cell_type": "markdown",
      "metadata": {
        "id": "eBN27OAFCxTV"
      },
      "source": [
        "## Gradient Descent Class\n",
        "The code for the Gradient Descent class was provided in the class notebooks. We implemented the ADAM and miniBatch gradient descent methods. You can see in the Gradient Descent class that the run method requires an argument to be passed to it, which is a gradient function. This is used to iteratively calculate and adjust the gradient to compute the optimal weight values. \n",
        "\n",
        "The Gradient Descent class takes in the arguments: `learning_rate` :  float, `max_iters`: float, `epsilon`: float, and `record_history`: float for all classes, `beta1`: float and `beta2`: float and `epsilon2`: float for ADAM gradient descent.\n",
        "\n",
        "*   `run`: Perform the Gradient Descent algorithm using a gradient calculation function\n",
        "*   `runADAM`: Perform the ADAM algorithm to find the optimal weights. It uses minibatch gradient descent to caluclate the gradient. \n",
        "* `createMiniBatch` : creates a list of lists of indicies. Each inner list contains batch_size number of random indicies that can be used to get the datapoints required to calculate the gradient\n",
        "* `runMiniBatch` : uses the create minibatch function to run minibatch gradient descent. \n",
        "\n"
      ]
    },
    {
      "cell_type": "code",
      "source": [
        "# GradientDescent is the class that is initialized as the 'optimizer' object\n",
        "class GradientDescent:\n",
        "    def __init__(self, learning_rate=0.001, max_iters=1e4, epsilon=1e-8, beta1=0.9, beta2=0.999, record_history=False, epsilon2=1e-8):\n",
        "        # parameters for gradient descent\n",
        "        self.learning_rate = learning_rate\n",
        "        self.max_iters = max_iters\n",
        "        self.record_history = record_history\n",
        "        self.epsilon = epsilon\n",
        "        # parameters for the adam gradient descent\n",
        "        self.beta1 = beta1\n",
        "        self.beta2 = beta2\n",
        "        self.epsilon2 = epsilon2\n",
        "        if record_history:\n",
        "            # record weight history for visualization\n",
        "            self.w_history = []\n",
        "        pass\n",
        "    # run function that is called by optimizer object\n",
        "    def run(self, gradient_fn, x, y, w):\n",
        "        grad = np.inf\n",
        "        t = 1\n",
        "        # while gradient is significantly non zero and there are still more iterations allowed\n",
        "        while np.linalg.norm(grad) > self.epsilon and t < self.max_iters:\n",
        "            # compute the gradient with function that was passed in\n",
        "            grad = gradient_fn(x, y, w)\n",
        "            # adjust weights by stepping in right direction\n",
        "            w = w - self.learning_rate * grad\n",
        "            if self.record_history:\n",
        "                self.w_history.append(w)\n",
        "            t += 1\n",
        "        return w\n",
        "\n",
        "    # function to cacluate the batch gradient given data, outputs, weights and a minibatch\n",
        "    def batchGradient(self, x, y, w, minibatch): \n",
        "        # xp = # * D\n",
        "        xp = x[minibatch, :]\n",
        "        # print(\"xp: \", xp.shape)\n",
        "        # yp = # * 1\n",
        "        yp = y[minibatch, :]\n",
        "        # print(\"yp: \", yp.shape)\n",
        "        # yh = (# * D) * (D * 1)  = # * 1\n",
        "        yh = xp @ w\n",
        "        # print(\"yh: \", yh.shape)\n",
        "        # Mean gradient of a batch of points\n",
        "        # grad = (D * #) * (# * 1) = (D * 1)\n",
        "        grad = np.dot(xp.T, yh - yp) / len(minibatch)\n",
        "        return grad\n",
        "\n",
        "    # For Linear Regression with the Adaptive Movement Estimation\n",
        "    def runADAM(self, x, y, batch_size = 1):\n",
        "        N, D = x.shape\n",
        "        grad = np.inf\n",
        "        t = 1\n",
        "        m = 0.0  # Momentum initial value\n",
        "        s = 0.0  # RMSprop initial value\n",
        "        w = np.ones(x.shape[1])[:,None]  # Initial weights\n",
        "        epochReached = True\n",
        "        while np.linalg.norm(grad) > self.epsilon and t < self.max_iters and t < x.shape[0]:\n",
        "\n",
        "            # GRADIENT USING MINIBATCH\n",
        "\n",
        "            # if epoch has been reached, generate new set of batches of gradient\n",
        "            if epochReached == True: \n",
        "              # minibatches is a list of lists of indicies. Each inner list has batch_size number of random indicies\n",
        "              minibatches = self.createMiniBatchIndex(N, batch_size)\n",
        "              epochReached = False\n",
        "            numberOfMiniBatches = (N//batch_size)\n",
        "            # access the minibatch at the right index according to which iteration we are at\n",
        "            minibatch = minibatches[t % numberOfMiniBatches]\n",
        "            \n",
        "            # calcualte batch gradient\n",
        "            grad = self.batchGradient(x,y,w,minibatch)\n",
        "\n",
        "            # ADAM code\n",
        "            m = self.beta1 * m + (1 - self.beta1) * grad  # Momentum\n",
        "            s = self.beta2 * s + (1 - self.beta2) * grad**2  # RMSprop\n",
        "            m_hat = m / (1 - self.beta1**t)  # Bias correction - prevent bias of m towards 0\n",
        "            s_hat = s / (1 - self.beta2**t)  # Bias correction - prevent bias of s towards 0\n",
        "            w = w - self.learning_rate * m_hat / \\\n",
        "                (np.sqrt(s_hat) + self.epsilon2)  # Update weights with adam formula\n",
        "            if self.record_history:\n",
        "                self.w_history.append(w)\n",
        "            t += 1\n",
        "            # if t is divisible by the number of batches, epoch has been reached\n",
        "            if t!= 0 and t % numberOfMiniBatches == 0 : \n",
        "              epochReached = False\n",
        "        return w\n",
        "\n",
        "    # Create mini-batch indices \n",
        "    def createMiniBatchIndex(self, N, batchSize):\n",
        "        miniBatches = []\n",
        "        index = list(range(N))  # Create a list of indices from 0 to N-1\n",
        "        np.random.shuffle(index)  # Randomize the order of the indices\n",
        "        numberOfMiniBatches = N // batchSize  # Number of complete mini batches\n",
        "        for i in range(numberOfMiniBatches):\n",
        "            miniBatches.append(index[i * batchSize:(i + 1) * batchSize])\n",
        "        if N % batchSize != 0:  # If there are remaining data points\n",
        "            # Add the remaining data points to the last mini batch\n",
        "            miniBatches.append(index[numberOfMiniBatches * batchSize:])\n",
        "        return miniBatches\n",
        "\n",
        "    # Run the mini-batch gradient descent algotithm\n",
        "    def runMiniBatch(self, x, y, batch_size):\n",
        "        N, D = x.shape\n",
        "        grad = np.inf\n",
        "        t = 0\n",
        "        w = np.zeros((D, y.shape[1]))  # Initial weights\n",
        "        # print(\"w: \", w.shape)\n",
        "        # running = True\n",
        "        # initialize epoch reached to True\n",
        "        epochReached = True\n",
        "        while np.linalg.norm(grad) > self.epsilon and t < self.max_iters:\n",
        "          # if epoch has been reached, generate new set of batches of gradient\n",
        "          if epochReached == True: \n",
        "            # minibatches is a list of lists of indicies. Each inner list has batch_size number of random indicies\n",
        "            minibatches = self.createMiniBatchIndex(N, batch_size)\n",
        "            epochReached = False\n",
        "          numberOfMiniBatches = (N//batch_size)\n",
        "          # access the minibatch at the right index according to which iteration we are at\n",
        "          minibatch = minibatches[t % numberOfMiniBatches]\n",
        "\n",
        "          grad = self.batchGradient(x,y,w,minibatch)\n",
        "\n",
        "        # adjust learning rate according to gradient\n",
        "          w = w - self.learning_rate * grad\n",
        "          if self.record_history:\n",
        "              self.w_history.append(w)\n",
        "          t += 1\n",
        "          # if t is divisible by the number of batches, epoch has been reached\n",
        "          if t!= 0 and t % numberOfMiniBatches == 0 : \n",
        "              epochReached = True\n",
        "        #   if np.linalg.norm(grad) <= self.epsilon or t >= self.max_iters:\n",
        "        #     running = False\n",
        "        #     break\n",
        "        return w"
      ],
      "metadata": {
        "id": "a546iSPutFw_"
      },
      "execution_count": 19,
      "outputs": []
    },
    {
      "cell_type": "markdown",
      "source": [
        "#TASK 3 - Testing"
      ],
      "metadata": {
        "id": "SuJ5aSNQBkkG"
      }
    },
    {
      "cell_type": "markdown",
      "source": [
        "## **Task 3.1 + 2** - Analysis of Analytical Linear Regression "
      ],
      "metadata": {
        "id": "JQxu4_LJC-vo"
      }
    },
    {
      "cell_type": "markdown",
      "source": [
        "### Testing Analytical Linear Regression\n",
        "\n",
        "Since the Linear Regression has a closed form solution, it will provide a benchmark for the different solutions.\n",
        "\n",
        "It is clear to see that the normalized data has a much lower cost than the non-normalized data, as expected. Sometimes, a \"Singular matrix\" is thrown when feature selection is not used, due to the presence of highly correlated features in the design matrix. We can eliminate this error by using the data with feature selection\n"
      ],
      "metadata": {
        "id": "LhX783CBIvwv"
      }
    },
    {
      "cell_type": "code",
      "source": [
        "np.random.seed(2)\n",
        "N, D = nfeatures.shape\n",
        "model = LinearRegression()\n",
        "\n",
        "# Computing Non-Normalized Data Performance\n",
        "# separate the data for training/test\n",
        "inds = np.random.permutation(N)\n",
        "n_training = int(N * 0.8)\n",
        "x_train, y_train = features[inds[:n_training]], outputs[inds[:n_training]]\n",
        "x_test, y_test = features[inds[n_training:]], outputs[inds[n_training:]]\n",
        "\n",
        "model.fit(x_train, y_train)\n",
        "\n",
        "print(\"Non-normalized Data:\")\n",
        "print(\"Training Cost: \", model.cost(model.predict(x_train), y_train))\n",
        "print(\"Testing Cost: \", model.cost(model.predict(x_test), y_test), \"\\n\")\n",
        "\n",
        "# Computing performance for normalized data\n",
        "n_runs = 15\n",
        "training_costs, test_costs = [], []\n",
        "# D + 1 to account for bias\n",
        "# 2 outputs\n",
        "weights = np.empty((n_runs, D + 1, 2))\n",
        "x_axis = range(15)\n",
        "\n",
        "# Populate the costs arrays\n",
        "for i in range(n_runs):\n",
        "  inds = np.random.permutation(N)\n",
        "  n_training = int(N * 0.8)\n",
        "  # separate the data for training/test\n",
        "  xn_train, y_train = nfeatures[inds[:n_training]], outputs[inds[:n_training]]\n",
        "  xn_test, y_test = nfeatures[inds[n_training:]], outputs[inds[n_training:]]\n",
        "  # Analytical\n",
        "  model.fit(xn_train, y_train)\n",
        "  training_costs.append(model.cost(model.predict(xn_train), y_train))\n",
        "  test_costs.append(model.cost(model.predict(xn_test), y_test))\n",
        "  weights[i] = model.w\n",
        "\n",
        "# Raw metrics\n",
        "training_avg, test_avg = np.mean(training_costs), np.mean(test_costs)\n",
        "training_std, test_std = np.std(training_costs), np.std(test_costs)\n",
        "weightsY1_avg = np.mean(weights[:,:,0], axis=0)\n",
        "weightsY2_avg = np.mean(weights[:,:,1], axis=0)\n",
        "\n",
        "# Remove outliers\n",
        "std = 3\n",
        "training_outliers, test_outliers = [], []\n",
        "\n",
        "for i, cost in enumerate(training_costs):\n",
        "  if abs(cost - training_avg) >= std * training_std: \n",
        "    training_outliers.append(i)\n",
        "\n",
        "for i, cost in enumerate(test_costs):\n",
        "  if abs(cost - test_avg) >= std * test_std: \n",
        "    test_outliers.append(i)\n",
        "\n",
        "training_processed = np.delete(training_costs, training_outliers)\n",
        "test_processed = np.delete(test_costs, test_outliers)\n",
        "\n",
        "# Construct Performance Table\n",
        "df = pd.DataFrame({\n",
        "    \"Training Cost Average\": np.mean(training_processed),\n",
        "    \"Training Cost STD\": np.std(training_processed),\n",
        "    \"Test Cost Average\": np.mean(test_processed),\n",
        "    \"Test Cost STD\": np.std(test_processed),\n",
        "  },\n",
        "  index = [\"Analytical\"])\n",
        "\n",
        "print(\"\\n\", df)\n",
        "print(training_outliers)\n",
        "print(test_outliers)\n",
        "#Print weights (average over all simulations, no removing of outliers)\n",
        "rows = ['X1', 'X2', 'X3', 'X4', 'X5', 'X6', 'X7','X8', 'Bias']\n",
        "df = pd.DataFrame({\n",
        "    \"Y1\": weightsY1_avg,\n",
        "    \"Y2\": weightsY2_avg,\n",
        "    }, index = rows)\n",
        "print(\"\\nWeights for the normalized data:\\n \", df)\n",
        "\n"
      ],
      "metadata": {
        "colab": {
          "base_uri": "https://localhost:8080/"
        },
        "id": "cimLzDVyJmkj",
        "outputId": "129172d9-deb9-408b-c620-46165499076f"
      },
      "execution_count": 20,
      "outputs": [
        {
          "output_type": "stream",
          "name": "stdout",
          "text": [
            "Non-normalized Data:\n",
            "Training Cost:  1633.688185839819\n",
            "Testing Cost:  1631.2381124350304 \n",
            "\n",
            "\n",
            "             Training Cost Average  Training Cost STD  Test Cost Average  \\\n",
            "Analytical                  11.07               2.20              11.38   \n",
            "\n",
            "            Test Cost STD  \n",
            "Analytical           2.39  \n",
            "[5]\n",
            "[5]\n",
            "\n",
            "Weights for the normalized data:\n",
            "           Y1     Y2\n",
            "X1    -5.63  -6.31\n",
            "X2   -11.40 -12.91\n",
            "X3     5.26   5.24\n",
            "X4     5.65   6.99\n",
            "X5     7.41   7.58\n",
            "X6    -0.02   0.15\n",
            "X7     2.66   1.97\n",
            "X8     0.32   0.06\n",
            "Bias  22.32  24.61\n"
          ]
        }
      ]
    },
    {
      "cell_type": "markdown",
      "source": [
        "### Testing Analytical Linear Regression With Feature Selection\n",
        "\n",
        "With feature selection, we can drastically reduce the standard deviation of results, and there is no need to eliminate outliers from our data"
      ],
      "metadata": {
        "id": "wM-8n7M2Z8qN"
      }
    },
    {
      "cell_type": "code",
      "source": [
        "\n",
        "# Computing performance for normalized data with feature selection\n",
        "N, D = bfeatures.shape\n",
        "n_runs = 15\n",
        "training_costs, test_costs = [], []\n",
        "\n",
        "model2 = LinearRegression()\n",
        "# D + 1 to account for bias\n",
        "# 2 outputs\n",
        "weights = np.empty((n_runs, D + 1, 2))\n",
        "x_axis = range(n_runs)\n",
        "\n",
        "# Populate the costs arrays\n",
        "for i in range(n_runs):\n",
        "  inds = np.random.permutation(N)\n",
        "  n_training = int(N * 0.8)\n",
        "  # separate the data for training/test\n",
        "  xn_train, y_train = bfeatures[inds[:n_training]], outputs[inds[:n_training]]\n",
        "  xn_test, y_test = bfeatures[inds[n_training:]], outputs[inds[n_training:]]\n",
        "  # Analytical Regresssion\n",
        "  model2.fit(xn_train, y_train)\n",
        "\n",
        "  ptrain = model2.predict(xn_train)\n",
        "  ptest = model2.predict(xn_test)\n",
        "\n",
        "  training_costs.append(model2.cost(ptrain, y_train))\n",
        "  test_costs.append(model2.cost(ptest, y_test))\n",
        "  weights[i] = model2.w\n",
        "\n",
        "\n",
        "# Raw metrics\n",
        "training_avg, test_avg = np.mean(training_costs), np.mean(test_costs)\n",
        "training_std, test_std = np.std(training_costs), np.std(test_costs)\n",
        "weightsY1_avg = np.mean(weights[:,:,0], axis=0)\n",
        "weightsY2_avg = np.mean(weights[:,:,1], axis=0)\n",
        "\n",
        "print(\"Results with Feature Selection:\")\n",
        "\n",
        "# Construct Performance Table\n",
        "df = pd.DataFrame({\n",
        "    \"Training Cost Average\": np.mean(training_costs),\n",
        "    \"Training Cost STD\": np.std(training_costs),\n",
        "    \"Test Cost Average\": np.mean(test_costs),\n",
        "    \"Test Cost STD\": np.std(test_costs),\n",
        "  },\n",
        "  index = [\"Analytical\"])\n",
        "\n",
        "print(\"\\n\", df)\n",
        "\n",
        "#Print weights (average over all simulations, no removing of outliers)\n",
        "rows = ['X1', 'X3', 'X5', 'X7','Bias']\n",
        "df = pd.DataFrame({\n",
        "    \"Y1\": weightsY1_avg,\n",
        "    \"Y2\": weightsY2_avg,\n",
        "    }, index = rows)\n",
        "print(\"\\nWeights for the normalized data with feature selection:\\n \", df)\n"
      ],
      "metadata": {
        "colab": {
          "base_uri": "https://localhost:8080/"
        },
        "id": "BOBD2kXKZ8PW",
        "outputId": "739f09f4-ff13-4220-f30b-fa4ef8dad261"
      },
      "execution_count": 21,
      "outputs": [
        {
          "output_type": "stream",
          "name": "stdout",
          "text": [
            "Results with Feature Selection:\n",
            "\n",
            "             Training Cost Average  Training Cost STD  Test Cost Average  \\\n",
            "Analytical                   9.57               0.25              10.20   \n",
            "\n",
            "            Test Cost STD  \n",
            "Analytical           0.99  \n",
            "\n",
            "Weights for the normalized data with feature selection:\n",
            "          Y1    Y2\n",
            "X1   -1.52 -2.11\n",
            "X3    1.53  0.81\n",
            "X5    9.78 10.01\n",
            "X7    2.71  1.95\n",
            "Bias 22.31 24.59\n"
          ]
        }
      ]
    },
    {
      "cell_type": "markdown",
      "source": [
        "###  Lasso Regularization for feature selection\n",
        "\n",
        "The table below shows the weights for the Lasso Regression. This helps us to justify which features that are highly correlated to eliminate - we eliminate the ones with a lower weight. You can see that all the features we chose to eliminate had their weights go very quickly to 0. \n",
        "\n"
      ],
      "metadata": {
        "id": "W06Fyv_IBZLO"
      }
    },
    {
      "cell_type": "code",
      "source": [
        "# np.set_printoptions(precision=2)\n",
        "lambdas = [0, 0.0001, 0.001, 0.01, 0.1, 0.5, 1, 2, 3]\n",
        "weightsY1 = []\n",
        "weightsY2 = []\n",
        "cols = [\"X1\", \"X2\", \"X3\", \"X4\", \"X5\", \"X6\", \"X7\", \"X8\", \"Bias\"]\n",
        "rows = [] # to be populated\n",
        "optimizer = GradientDescent()\n",
        "\n",
        "for l in lambdas:\n",
        "  rows.append(str(l))\n",
        "  lasso = LinearRegression(lambdaa=l)\n",
        "  lasso.fitLasso(nfeatures, outputs, optimizer)\n",
        "  weightsY1.append(lasso.w[:,0])\n",
        "  weightsY2.append(lasso.w[:,1])\n",
        "\n",
        "dfY1 = pd.DataFrame(weightsY1, columns = cols, index = rows)\n",
        "dfY2 = pd.DataFrame(weightsY2, columns = cols, index = rows)\n",
        "\n",
        "print(\"Y1 weights:\\n\", dfY1, \"\\n\")\n",
        "print(\"Y2 weights:\\n\", dfY2)"
      ],
      "metadata": {
        "colab": {
          "base_uri": "https://localhost:8080/"
        },
        "id": "0btjJMgFBbNz",
        "outputId": "558d9998-6b80-4bcf-ff5e-0bee5e63b7dc"
      },
      "execution_count": 22,
      "outputs": [
        {
          "output_type": "stream",
          "name": "stdout",
          "text": [
            "Y1 weights:\n",
            "           X1    X2   X3    X4   X5    X6   X7   X8  Bias\n",
            "0       0.14 -1.16 2.99 -2.57 4.27 -0.03 2.63 0.34 22.16\n",
            "0.0001  0.14 -1.16 2.99 -2.57 4.27 -0.03 2.63 0.34 22.16\n",
            "0.001   0.14 -1.16 2.98 -2.57 4.27 -0.02 2.63 0.33 22.16\n",
            "0.01    0.12 -1.14 2.96 -2.58 4.28 -0.01 2.61 0.32 22.14\n",
            "0.1    -0.00 -0.96 2.69 -2.69 4.34  0.00 2.46 0.17 21.96\n",
            "0.5    -0.00 -0.00 1.63 -2.93 4.44 -0.00 1.71 0.00 21.16\n",
            "1      -0.00 -0.00 0.72 -2.65 4.05 -0.00 0.72 0.00 20.17\n",
            "2       0.00 -0.00 0.00 -1.79 3.10  0.00 0.00 0.00 18.18\n",
            "3       0.00 -0.00 0.00 -0.78 2.08  0.00 0.00 0.00 16.20 \n",
            "\n",
            "Y2 weights:\n",
            "           X1    X2   X3    X4   X5    X6    X7    X8  Bias\n",
            "0       0.07 -1.16 2.53 -2.35 4.20  0.13  1.94  0.08 24.42\n",
            "0.0001  0.07 -1.16 2.53 -2.35 4.20  0.13  1.94  0.08 24.42\n",
            "0.001   0.07 -1.16 2.53 -2.35 4.20  0.13  1.94  0.08 24.42\n",
            "0.01    0.05 -1.14 2.50 -2.36 4.20  0.12  1.92  0.06 24.40\n",
            "0.1    -0.00 -0.94 2.24 -2.45 4.25  0.00  1.76  0.00 24.22\n",
            "0.5    -0.00  0.00 1.19 -2.68 4.34 -0.00  0.97 -0.00 23.43\n",
            "1      -0.00 -0.00 0.29 -2.40 3.95  0.00  0.00 -0.00 22.44\n",
            "2       0.00 -0.00 0.00 -1.47 2.95 -0.00  0.00 -0.00 20.45\n",
            "3       0.00 -0.00 0.00 -0.46 1.93  0.00 -0.00 -0.00 18.46\n"
          ]
        }
      ]
    },
    {
      "cell_type": "markdown",
      "source": [],
      "metadata": {
        "id": "5aQPnTcIblBB"
      }
    },
    {
      "cell_type": "markdown",
      "source": [
        "### Plotting the Most Important Feature for Y1\n",
        "\n",
        "With Lasso Regression, we have identified that X5 is the most important feature. We can use it to demonstrate that our model is working as expected. "
      ],
      "metadata": {
        "id": "-xh_UKGVC5-B"
      }
    },
    {
      "cell_type": "code",
      "source": [
        "# plot a graph of X5 vs. y = bias + X5 * W5\n",
        "newModel = LinearRegression()\n",
        "np.random.seed(19)\n",
        "N,D = bfeatures.shape\n",
        "# Computing Non-Normalized Data Performance\n",
        "# separate the data for training/test\n",
        "inds = np.random.permutation(N)\n",
        "n_training = int(N * 0.8)\n",
        "# separate the data for training/test\n",
        "xn_train, y_train = bfeatures[inds[:n_training]], outputs[inds[:n_training]]\n",
        "xn_test, y_test = bfeatures[inds[n_training:]], outputs[inds[n_training:]]\n",
        "\n",
        "# compute the weights\n",
        "result = newModel.fit(xn_train,y_train)\n",
        "\n",
        "# calculate w5 and bias for Y1\n",
        "w5 = result.w[2][0]\n",
        "bias = result.w[4][0]\n",
        "# intializee lists to plot line y1 = w5 * x5 + bias\n",
        "x = []\n",
        "y = []\n",
        "N,D = xn_test.shape\n",
        "for i in range (N): \n",
        "  x.append(xn_test[i][2])\n",
        "  y.append((xn_test[i][2] * w5 + bias))\n",
        "\n",
        "# create two plots to show Y1 and Y2 on the same graph\n",
        "figure, (axis1, axis2) = plt.subplots(1, 2, figsize=(8, 5))\n",
        "figure.subplots_adjust(top=1)\n",
        "\n",
        "figure.suptitle(\"Overall Height vs. Heating and Cooling Rates\",y=1.05)\n",
        "ticks = np.linspace(-1, 1, 5)\n",
        "axis1.set_xticks(ticks)\n",
        "axis2.set_xticks(ticks)\n",
        "\n",
        "# plotting settings for Y1\n",
        "axis1.plot(x,y,label=\"y1 = bias + X5 * W5\", color='m')\n",
        "# axis1.set_title(\"Impact of Overall Height (X5) on Heating Rate (Y1)\")\n",
        "axis1.set_xlabel(\"Overall Height (X5)\")\n",
        "axis1.set_ylabel(\"Heating Rate (Y1)\")\n",
        "axis1.scatter(xn_test[:,2:3],y_test[:,0:1],color='c')\n",
        "\n",
        "# calculate w5 and bias for Y2\n",
        "w5 = result.w[2][1]\n",
        "bias = result.w[4][1]\n",
        "\n",
        "# intializee lists to plot line y2 = w5 * x5 + bias\n",
        "x = []\n",
        "y = []\n",
        "N,D = xn_test.shape\n",
        "for i in range (N): \n",
        "  x.append(xn_test[i][2])\n",
        "  y.append((xn_test[i][2] * w5 + bias))\n",
        "\n",
        "# plotting settings for Y2\n",
        "axis2.plot(x,y,label=\"y2 = bias + X5 * W5\", color='m')\n",
        "# axis2.set_title(\"Impact of Overall Height (X5) on Cooling Rate (Y2)\")\n",
        "axis2.set_xlabel(\"Overall Height (X5)\")\n",
        "axis2.set_ylabel(\"Cooling Rate (Y2)\")\n",
        "axis2.scatter(xn_test[:,2:3],y_test[:,1:2],color='c')\n",
        "axis2.set\n",
        "# plt.tight_layout()\n",
        "plt.show()\n"
      ],
      "metadata": {
        "colab": {
          "base_uri": "https://localhost:8080/",
          "height": 395
        },
        "id": "io00Pk8ODRA-",
        "outputId": "c42b54f5-4650-4fc0-8251-48ed30e50fd0"
      },
      "execution_count": 23,
      "outputs": [
        {
          "output_type": "display_data",
          "data": {
            "text/plain": [
              "<Figure size 576x360 with 2 Axes>"
            ],
            "image/png": "[encoded data removed]"
          },
          "metadata": {
            "needs_background": "light"
          }
        }
      ]
    },
    {
      "cell_type": "markdown",
      "source": [
        "## Task 3.3 - Testing Growing Subsets of the Training Data\n",
        "\n",
        "The plot shows the training and test performance of the linear regression as function of the training size. Interestingly, training size does not have a major effect on cost, but reduces the variance between the various trials. We used an average between 15 runs to calcualte these results. "
      ],
      "metadata": {
        "id": "_thDhU0oR0KO"
      }
    },
    {
      "cell_type": "markdown",
      "source": [
        "### Plot Training and Test Costs"
      ],
      "metadata": {
        "id": "9L_x8G-kvcZt"
      }
    },
    {
      "cell_type": "code",
      "source": [
        "def plotCosts(training_costs, test_costs, title, xlabel, ylabel):\n",
        "  # average training costs \n",
        "  average_training_costs = np.mean(training_costs, axis=0)\n",
        "  average_test_costs = np.mean(test_costs, axis=0)\n",
        "  print()\n",
        "  # standard deviation of costs\n",
        "  std_training = np.std(training_costs, axis = 0)\n",
        "  std_test = np.std(test_costs, axis = 0, ddof=1)\n",
        "\n",
        "  # calculate the highest value in the two arrays\n",
        "  max_val = np.amax(np.array([np.amax(average_test_costs), np.amax(average_training_costs)]))\n",
        "  # plot with errors\n",
        "  plt.errorbar(x_axis, average_test_costs,std_test, label=\"test data\",color='g')\n",
        "  plt.errorbar(x_axis, average_training_costs, std_training, label=\"training data\",color ='b')\n",
        "  # assign plot properties\n",
        "  plt.title(title)\n",
        "  plt.legend()\n",
        "  plt.xlabel(xlabel)\n",
        "  plt.ylabel(ylabel)\n",
        "  plt.legend(loc='upper right')\n",
        "  plt.show()"
      ],
      "metadata": {
        "id": "8zmbv968vi5m"
      },
      "execution_count": 78,
      "outputs": []
    },
    {
      "cell_type": "markdown",
      "source": [
        "### Analyse Cost vs. Changing Training Data Size\n",
        "\n",
        "Based on an average of 15 runs"
      ],
      "metadata": {
        "id": "CKz6GDgxvky5"
      }
    },
    {
      "cell_type": "code",
      "source": [
        "runs = 15\n",
        "training_samples = 8\n",
        "training_costs = np.zeros((runs,training_samples))\n",
        "test_costs = np.zeros((runs,training_samples))\n",
        "x_axis = [i for i in range(10,90,10)]\n",
        "optimizer = GradientDescent()\n",
        "np.random.seed(92)\n",
        "\n",
        "N,D = bfeatures.shape\n",
        "\n",
        "for run in range(runs):\n",
        "  counter = 0\n",
        "  inds = np.random.permutation(N)\n",
        "  for i in x_axis:\n",
        "    \n",
        "    n_training = int(N * i * 0.01)\n",
        "    # separate the data for training/test\n",
        "    xn_train, y_train = bfeatures[inds[:n_training]], outputs[inds[:n_training]]\n",
        "    xn_test, y_test = bfeatures[inds[n_training:]], outputs[inds[n_training:]]\n",
        "    # train the model\n",
        "    model.fit(xn_train, y_train)\n",
        "    # calculate the costs\n",
        "     # predict the outcomes for training and test data\n",
        "    ptrain = model.predict(xn_train)\n",
        "    ptest = model.predict(xn_test)\n",
        "    # assign the costs for training and test data\n",
        "    training_costs[run][counter] = model.cost(ptrain, y_train)\n",
        "    test_costs[run][counter] = model.cost(ptest, y_test)\n",
        "    counter += 1\n",
        "\n",
        "plotCosts(training_costs, test_costs, \"Effect of Training Size on Analytical Linear Regression\", 'Training Size (%)', 'Mean Squared Error')"
      ],
      "metadata": {
        "colab": {
          "base_uri": "https://localhost:8080/",
          "height": 312
        },
        "id": "LhEEBP8cSQO_",
        "outputId": "514ffde0-99c1-4680-916a-a644d8335cf8"
      },
      "execution_count": 79,
      "outputs": [
        {
          "output_type": "stream",
          "name": "stdout",
          "text": [
            "\n"
          ]
        },
        {
          "output_type": "display_data",
          "data": {
            "text/plain": [
              "<Figure size 432x288 with 1 Axes>"
            ],
            "image/png": "[encoded data removed]"
          },
          "metadata": {
            "needs_background": "light"
          }
        }
      ]
    },
    {
      "cell_type": "markdown",
      "source": [
        "## Task 3.4 - Testing Growing Minibatch Size\n"
      ],
      "metadata": {
        "id": "aXUxIKXiaMWr"
      }
    },
    {
      "cell_type": "markdown",
      "source": [
        "### Effect on Cost\n",
        "The plot shows the training and test performance of the linear regression as function of the minibatch size. We can see that the total cost fo the implementation does not change based on the batch size. These results are based on an average of 15 runs\n"
      ],
      "metadata": {
        "id": "NUKewGznqT9C"
      }
    },
    {
      "cell_type": "code",
      "source": [
        "# number of runs and bath sizes\n",
        "runs = 15\n",
        "batch_sizes = 8\n",
        "\n",
        "N,D = bfeatures.shape\n",
        "\n",
        "# initialize optimizer and numpy arrays\n",
        "optimizer = GradientDescent()\n",
        "training_costs = np.zeros((runs,batch_sizes))\n",
        "test_costs = np.zeros((runs,batch_sizes))\n",
        "# values for batch sizes\n",
        "x_axis = [2 ** i for i in range(batch_sizes)]\n",
        "# training split\n",
        "n_training = int(N * 0.80)\n",
        "\n",
        "model = LinearRegression()\n",
        "np.random.seed(1)\n",
        "\n",
        "for run in range(runs):\n",
        "  for i in range (batch_sizes): \n",
        "    inds = np.random.permutation(N)\n",
        "    batch_size = 2 ** i\n",
        "    # separate the data for training/test\n",
        "    xn_train, y_train = bfeatures[inds[:n_training]], outputs[inds[:n_training]]\n",
        "    xn_test, y_test = bfeatures[inds[n_training:]], outputs[inds[n_training:]]\n",
        "    # train the model\n",
        "    model.fitMiniBatch(xn_train, y_train, optimizer, batch_size)\n",
        "    # predict the outcomes for training and test data\n",
        "    ptrain = model.predict(xn_train)\n",
        "    ptest = model.predict(xn_test)\n",
        "    # assign the costs for training and test data\n",
        "    training_costs[run][i] = model.cost(ptrain, y_train)\n",
        "    test_costs[run][i] = model.cost(ptest, y_test)\n",
        "\n",
        "plotCosts(training_costs,test_costs, \" Mean Squared Error vs. Batch Size for Mini-Batch Gradient Descent\", 'Batch Size', 'Mean Squared Error')"
      ],
      "metadata": {
        "id": "kRtG45fCawcf",
        "colab": {
          "base_uri": "https://localhost:8080/",
          "height": 312
        },
        "outputId": "5f936b0d-56f2-463b-c8e1-3b2dbc849f42"
      },
      "execution_count": 26,
      "outputs": [
        {
          "output_type": "stream",
          "name": "stdout",
          "text": [
            "\n"
          ]
        },
        {
          "output_type": "display_data",
          "data": {
            "text/plain": [
              "<Figure size 432x288 with 1 Axes>"
            ],
            "image/png": "[encoded data removed]"
          },
          "metadata": {
            "needs_background": "light"
          }
        }
      ]
    },
    {
      "cell_type": "markdown",
      "source": [
        "### Effect on Time to Termination\n",
        "\n",
        "We examine the effect of Minibatch size on the time to termination. Once again, we use an average of 15 runs"
      ],
      "metadata": {
        "id": "_4KjvNK2qcDQ"
      }
    },
    {
      "cell_type": "code",
      "source": [
        "import time as t\n",
        "\n",
        "# number of runs and bath sizes\n",
        "runs = 15\n",
        "batch_sizes = 8\n",
        "\n",
        "time = np.zeros((runs, batch_sizes))\n",
        "N,D = bfeatures.shape\n",
        "\n",
        "# values for batch sizes\n",
        "x_axis = [2 ** i for i in range(batch_sizes)]\n",
        "# training split\n",
        "n_training = int(N * 0.80)\n",
        "\n",
        "model = LinearRegression()\n",
        "np.random.seed(1)\n",
        "\n",
        "for run in range(runs):\n",
        "  \n",
        "  for i in range (batch_sizes): \n",
        "    start = t.time()\n",
        "    inds = np.random.permutation(N)\n",
        "    batch_size = 2 ** i\n",
        "    # separate the data for training/test\n",
        "    xn_train, y_train = bfeatures[inds[:n_training]], outputs[inds[:n_training]]\n",
        "    xn_test, y_test = bfeatures[inds[n_training:]], outputs[inds[n_training:]]\n",
        "    # train the model\n",
        "    model.fitMiniBatch(xn_train, y_train, optimizer, batch_size)\n",
        "    # predict the outcomes for training and test data\n",
        "    \n",
        "    # assign the number of iterations it took\n",
        "    time[run][i] = t.time() - start\n",
        "\n",
        "# average number of iterations to termination \n",
        "average_time = np.mean(time, axis = 0)\n",
        "\n",
        "# standard deviation of iterations \n",
        "std_time = np.std(time, axis = 0)\n",
        "\n",
        "print (average_time)\n",
        "\n",
        "# plot with errors\n",
        "plt.errorbar(x_axis, average_time,std_time)\n",
        "\n",
        "# assign plot properties\n",
        "plt.title(\"Time to Termination vs. Batch Size for Mini-Batch Gradient Descent\")\n",
        "plt.xlabel('Batch Size')\n",
        "plt.ylabel('Time to Termination (s)')\n",
        "plt.show()"
      ],
      "metadata": {
        "colab": {
          "base_uri": "https://localhost:8080/",
          "height": 330
        },
        "id": "ouGexxvEqc59",
        "outputId": "6cc2239c-dfc8-42d7-9fba-43ea35ae831e"
      },
      "execution_count": 27,
      "outputs": [
        {
          "output_type": "stream",
          "name": "stdout",
          "text": [
            "[0.24534976 0.25328852 0.26617543 0.27881649 0.30774592 0.43084952\n",
            " 0.55741216 0.78257294]\n"
          ]
        },
        {
          "output_type": "display_data",
          "data": {
            "text/plain": [
              "<Figure size 432x288 with 1 Axes>"
            ],
            "image/png": "[encoded data removed]"
          },
          "metadata": {
            "needs_background": "light"
          }
        }
      ]
    },
    {
      "cell_type": "markdown",
      "source": [
        "### Effect on Number of Iterations\n",
        "\n",
        "To observe the number of iterations until termination with each method, we increase epsilon to have a value of 1 and max iterations to a value of 1e5, so that the gradient descent stops before the max iterations. "
      ],
      "metadata": {
        "id": "fkVRND-TqjrK"
      }
    },
    {
      "cell_type": "code",
      "source": [
        "# number of runs and bath sizes\n",
        "runs = 15\n",
        "batch_sizes = 8\n",
        "# initialize optimizer and numpy arrays\n",
        "\n",
        "iterations = np.zeros((runs, batch_sizes))\n",
        "\n",
        "N,D = bfeatures.shape\n",
        "\n",
        "# values for batch sizes\n",
        "x_axis = [2 ** i for i in range(batch_sizes)]\n",
        "# training split\n",
        "n_training = int(N * 0.80)\n",
        "print(n_training)\n",
        "\n",
        "model = LinearRegression()\n",
        "np.random.seed(1)\n",
        "\n",
        "for run in range(runs):\n",
        "  \n",
        "  for i in range (batch_sizes): \n",
        "    optimizer = GradientDescent(record_history=True, epsilon= 1, max_iters = 1e5)   \n",
        "    inds = np.random.permutation(N)\n",
        "    batch_size = 2 ** i\n",
        "    # separate the data for training/test\n",
        "    xn_train, y_train = bfeatures[inds[:n_training]], outputs[inds[:n_training]]\n",
        "    xn_test, y_test = bfeatures[inds[n_training:]], outputs[inds[n_training:]]\n",
        "    # train the model\n",
        "    model.fitMiniBatch(xn_train, y_train, optimizer, batch_size)\n",
        "    # predict the outcomes for training and test data\n",
        "    \n",
        "    # assign the number of iterations it took\n",
        "    iterations[run][i] = len(optimizer.w_history)\n",
        "\n",
        "\n",
        "\n",
        "# average number of iterations to termination \n",
        "average_iterations = np.mean(iterations, axis = 0)\n",
        "\n",
        "# standard deviation of iterations \n",
        "std_iterations = np.std(iterations, axis = 0)\n",
        "\n",
        "print (average_iterations)\n",
        "\n",
        "# plot with errors\n",
        "plt.errorbar(x_axis, average_iterations,std_iterations)\n",
        "\n",
        "# assign plot properties\n",
        "plt.title(\"Effect of Batch Size for Mini-Batch Gradient Descent\")\n",
        "plt.xlabel('Batch Size')\n",
        "plt.ylabel('Iterations to Termination')\n",
        "plt.show()"
      ],
      "metadata": {
        "colab": {
          "base_uri": "https://localhost:8080/",
          "height": 347
        },
        "id": "lwC97aLyqkcY",
        "outputId": "949c0d7b-83c4-4491-893e-f2856620f617"
      },
      "execution_count": 28,
      "outputs": [
        {
          "output_type": "stream",
          "name": "stdout",
          "text": [
            "614\n",
            "[1540.93333333 1883.2        2611.6        2761.         2709.93333333\n",
            " 2851.53333333 2956.8        3106.73333333]\n"
          ]
        },
        {
          "output_type": "display_data",
          "data": {
            "text/plain": [
              "<Figure size 432x288 with 1 Axes>"
            ],
            "image/png": "[encoded data removed]"
          },
          "metadata": {
            "needs_background": "light"
          }
        }
      ]
    },
    {
      "cell_type": "markdown",
      "source": [
        "## Task 3.5 - Testing Multiple learning rates\n",
        "\n",
        "The plots show the training and test performance of the linear regression with normal gradient descent as function of the learning rate. "
      ],
      "metadata": {
        "id": "MCkGwCTsVY-g"
      }
    },
    {
      "cell_type": "code",
      "source": [
        "# Helper function to plot the diagram\n",
        "\n",
        "N,D = bfeatures.shape\n",
        "\n",
        "def drawMultipleLearningRates(x_axis):\n",
        "  # Separate test data\n",
        "  training_costs = []\n",
        "  test_costs = []\n",
        "  np.random.seed(0)\n",
        "  n_training = int(N * 0.8)\n",
        "  inds = np.random.permutation(N)\n",
        "  xn_train, y_train = bfeatures[inds[:n_training]], outputs[inds[:n_training]]\n",
        "  xn_test, y_test = bfeatures[inds[n_training:]], outputs[inds[n_training:]]\n",
        "  for i in x_axis:\n",
        "    optimizer = GradientDescent(learning_rate = i, max_iters = 100)\n",
        "    model.fitGradientDescent(xn_train, y_train, optimizer)\n",
        "    # calculate the costs\n",
        "    training_costs.append(model.cost(model.predict(xn_train), y_train))\n",
        "    test_costs.append(model.cost(model.predict(xn_test), y_test))\n",
        "  # Plot\n",
        "  plt.plot(x_axis, test_costs, '-', label='test data')\n",
        "  plt.plot(x_axis, training_costs, '-', label='training data')\n",
        "  plt.legend()\n",
        "  plt.title(\"Mean Squared Error vs. Learning Rate for Gradient Descent\")\n",
        "  plt.xlabel('Learning Rate')\n",
        "  plt.ylabel('Mean Squared Error')\n",
        "  plt.show()\n",
        "  return\n",
        "\n",
        "# Learning rates to plot\n",
        "x1 = np.arange(0.0001, 0.1, 0.001)\n",
        "x2 = np.arange(0.1, 4.7, 0.05)\n",
        "drawMultipleLearningRates(x1)\n",
        "drawMultipleLearningRates(x2)"
      ],
      "metadata": {
        "id": "wVqkilUrVS_h",
        "outputId": "c49ab19f-9ba1-4396-a84e-8e2dc62d3324",
        "colab": {
          "base_uri": "https://localhost:8080/",
          "height": 573
        }
      },
      "execution_count": 29,
      "outputs": [
        {
          "output_type": "display_data",
          "data": {
            "text/plain": [
              "<Figure size 432x288 with 1 Axes>"
            ],
            "image/png": "[encoded data removed]"
          },
          "metadata": {
            "needs_background": "light"
          }
        },
        {
          "output_type": "display_data",
          "data": {
            "text/plain": [
              "<Figure size 432x288 with 1 Axes>"
            ],
            "image/png": "[encoded data removed]"
          },
          "metadata": {
            "needs_background": "light"
          }
        }
      ]
    },
    {
      "cell_type": "markdown",
      "source": [
        "### With Minibatch Gradient Descent\n",
        "\n",
        "Shows that the effect of learning rate is very similar for both minibatch gradient descent and normal gradient descent"
      ],
      "metadata": {
        "id": "v233uJ94iVZZ"
      }
    },
    {
      "cell_type": "code",
      "source": [
        "# Helper function to plot the diagram\n",
        "\n",
        "N,D = bfeatures.shape\n",
        "\n",
        "def drawMultipleLearningRates(x_axis):\n",
        "  # Separate test data\n",
        "  training_costs = []\n",
        "  test_costs = []\n",
        "  np.random.seed(0)\n",
        "  n_training = int(N * 0.8)\n",
        "  inds = np.random.permutation(N)\n",
        "  xn_train, y_train = bfeatures[inds[:n_training]], outputs[inds[:n_training]]\n",
        "  xn_test, y_test = bfeatures[inds[n_training:]], outputs[inds[n_training:]]\n",
        "  for i in x_axis:\n",
        "    optimizer = GradientDescent(learning_rate = i, max_iters = 100)\n",
        "    model.fitMiniBatch(xn_train, y_train, optimizer, 16)\n",
        "    # calculate the costs\n",
        "    training_costs.append(model.cost(model.predict(xn_train), y_train))\n",
        "    test_costs.append(model.cost(model.predict(xn_test), y_test))\n",
        "  # Plot\n",
        "  plt.plot(x_axis, test_costs, '-', label='test data')\n",
        "  plt.plot(x_axis, training_costs, '-', label='training data')\n",
        "  plt.legend()\n",
        "  plt.title(\"Mean Squared Error vs. Learning Rate for Mini-Batch Gradient Descent\")\n",
        "  plt.xlabel('Learning Rate')\n",
        "  plt.ylabel('Mean Squared Error')\n",
        "  plt.show()\n",
        "  return\n",
        "\n",
        "# Learning rates to plot\n",
        "x1 = np.arange(0.0001, 0.1, 0.001)\n",
        "x2 = np.arange(0.1, 4.9, 0.05)\n",
        "drawMultipleLearningRates(x1)\n",
        "drawMultipleLearningRates(x2)"
      ],
      "metadata": {
        "colab": {
          "base_uri": "https://localhost:8080/",
          "height": 573
        },
        "id": "R4pWP6yKifYZ",
        "outputId": "341c2cbf-aeff-4d9d-95fb-cf4dc3c0c8c8"
      },
      "execution_count": 30,
      "outputs": [
        {
          "output_type": "display_data",
          "data": {
            "text/plain": [
              "<Figure size 432x288 with 1 Axes>"
            ],
            "image/png": "[encoded data removed]"
          },
          "metadata": {
            "needs_background": "light"
          }
        },
        {
          "output_type": "display_data",
          "data": {
            "text/plain": [
              "<Figure size 432x288 with 1 Axes>"
            ],
            "image/png": "[encoded data removed]"
          },
          "metadata": {
            "needs_background": "light"
          }
        }
      ]
    },
    {
      "cell_type": "markdown",
      "source": [
        "### With Adam"
      ],
      "metadata": {
        "id": "5oM6-wvCcakj"
      }
    },
    {
      "cell_type": "code",
      "source": [
        "# Helper function to plot the diagram\n",
        "\n",
        "N,D = bfeatures.shape\n",
        "\n",
        "def drawMultipleLearningRates(x_axis):\n",
        "  # Separate test data\n",
        "  training_costs = []\n",
        "  test_costs = []\n",
        "  np.random.seed(0)\n",
        "  n_training = int(N * 0.8)\n",
        "  inds = np.random.permutation(N)\n",
        "  xn_train, y_train = bfeatures[inds[:n_training]], outputs[inds[:n_training]]\n",
        "  xn_test, y_test = bfeatures[inds[n_training:]], outputs[inds[n_training:]]\n",
        "  for i in x_axis:\n",
        "    optimizer = GradientDescent(learning_rate=i, max_iters=1e4, epsilon=1e-8, beta1=0.5, beta2=0.5, record_history=False, epsilon2=1e-8)\n",
        "    model.fitADAM(xn_train, y_train, optimizer, 16)\n",
        "    # calculate the costs\n",
        "    training_costs.append(model.cost(model.predict(xn_train), y_train))\n",
        "    test_costs.append(model.cost(model.predict(xn_test), y_test))\n",
        "  # Plot\n",
        "  plt.plot(x_axis, test_costs, '-', label='test data', color = 'turquoise')\n",
        "  plt.plot(x_axis, training_costs, '-', label='training data', color = 'deeppink')\n",
        "  plt.legend()\n",
        "  plt.title(\"Mean Squared Error vs. Learning Rate for ADAM Gradient Descent\")\n",
        "  plt.xlabel('Learning Rate')\n",
        "  plt.ylabel('Mean Squared Error')\n",
        "  plt.show()\n",
        "  return\n",
        "\n",
        "# Learning rates to plot\n",
        "x1 = np.arange(0.0001, 0.2, 0.001)\n",
        "x2 = np.arange(0.01, 10, 0.05)\n",
        "drawMultipleLearningRates(x1)\n",
        "drawMultipleLearningRates(x2)"
      ],
      "metadata": {
        "colab": {
          "base_uri": "https://localhost:8080/",
          "height": 573
        },
        "id": "kiEre8lFceRR",
        "outputId": "3da5f19d-f198-4175-acc3-658397b56f43"
      },
      "execution_count": 61,
      "outputs": [
        {
          "output_type": "display_data",
          "data": {
            "text/plain": [
              "<Figure size 432x288 with 1 Axes>"
            ],
            "image/png": "[encoded data removed]"
          },
          "metadata": {
            "needs_background": "light"
          }
        },
        {
          "output_type": "display_data",
          "data": {
            "text/plain": [
              "<Figure size 432x288 with 1 Axes>"
            ],
            "image/png": "[encoded data removed]"
          },
          "metadata": {
            "needs_background": "light"
          }
        }
      ]
    },
    {
      "cell_type": "markdown",
      "source": [
        "## Task 3.6 - Comparing Performances\n",
        "\n",
        "The table shows the average and standard deviation costs for the different linear regression solution, namely, analytical, mini-batch, fully batch, and Adam. The metrics are calculated over a particular number of simulations with a 80%/20% split of the data.\n",
        "\n",
        "The Adam model was hyperparameter tuned by train and error and not with a validation set. This is something we could have improved on. \n"
      ],
      "metadata": {
        "id": "QCBMXymdnHuP"
      }
    },
    {
      "cell_type": "code",
      "source": [
        "n_runs = 15\n",
        "n_models = 4\n",
        "training_costs, test_costs = np.zeros((n_models, n_runs)), np.zeros((n_models, n_runs))\n",
        "weights = np.empty((n_models, n_runs, bfeatures.shape[1] + 1, 2))\n",
        "x_axis = range(100)\n",
        "batchSize = 32\n",
        "\n",
        "optimizer = GradientDescent(learning_rate=0.1, max_iters=1e4, epsilon=1e-8, beta1=0.5, beta2=0.5, record_history=False, epsilon2=1e-8)\n",
        "\n",
        "np.random.seed(0)\n",
        "# Populate the costs matrices\n",
        "for i in range(n_runs):\n",
        "  inds = np.random.permutation(N)\n",
        "  n_training = int(N * 0.8)\n",
        "  # separate the data for training/test\n",
        "  xn_train, y_train = bfeatures[inds[:n_training]], outputs[inds[:n_training]]\n",
        "  xn_test, y_test = bfeatures[inds[n_training:]], outputs[inds[n_training:]]\n",
        "  # Analytical\n",
        "  model.fit(xn_train, y_train)\n",
        "  training_costs[0, i] = model.cost(model.predict(xn_train), y_train)\n",
        "  test_costs[0, i] = model.cost(model.predict(xn_test), y_test)\n",
        "  weights[0, i] = model.w\n",
        "  # Mini-batch\n",
        "  model.fitMiniBatch(xn_train, y_train, optimizer, batchSize)\n",
        "  training_costs[1, i] = model.cost(model.predict(xn_train), y_train)\n",
        "  test_costs[1, i] = model.cost(model.predict(xn_test), y_test)\n",
        "  weights[1, i] = model.w\n",
        "  # Fully Batch\n",
        "  model.fitGradientDescent(xn_train, y_train, optimizer)\n",
        "  training_costs[2, i] = model.cost(model.predict(xn_train), y_train)\n",
        "  test_costs[2, i] = model.cost(model.predict(xn_test), y_test)\n",
        "  weights[2, i] = model.w\n",
        "  #ADAM\n",
        "  model.fitADAM(xn_train, y_train, optimizer, batchSize)\n",
        "  training_costs[3, i] = model.cost(model.predict(xn_train), y_train)\n",
        "  test_costs[3, i] = model.cost(model.predict(xn_test), y_test)\n",
        "  weights[3, i] = model.w\n",
        "\n",
        "weightsY1_avg = np.mean(weights[:,:,:,0], axis=1)\n",
        "weightsY2_avg = np.mean(weights[:,:,:,1], axis=1)\n",
        "\n",
        "# Remove outliers for Analytical Linear Regression\n",
        "# Raw metrics\n",
        "training_avg, test_avg = np.mean(training_costs[0,:]), np.mean(test_costs[0,:])\n",
        "training_std, test_std = np.std(training_costs[0,:]), np.std(test_costs[0,:])\n",
        "\n",
        "# Remove outliers\n",
        "std = 3\n",
        "training_outliers, test_outliers = [], []\n",
        "\n",
        "for i, cost in enumerate(training_costs[0,:]):\n",
        "  if abs(cost - training_avg) >= std * training_std: \n",
        "    training_outliers.append(i)\n",
        "\n",
        "for i, cost in enumerate(test_costs[0,:]):\n",
        "  if abs(cost - test_avg) >= std * test_std: \n",
        "    test_outliers.append(i)\n",
        "\n",
        "training_processed = np.delete(training_costs[0,:], training_outliers)\n",
        "test_processed = np.delete(test_costs[0,:], test_outliers)\n",
        "\n",
        "# # Define original metric arrays\n",
        "training_cost_mean = np.mean(training_costs, axis=1)\n",
        "training_cost_std = np.std(training_costs, axis=1)\n",
        "testing_cost_mean = np.mean(test_costs, axis=1)\n",
        "testing_cost_std = np.std(test_costs, axis=1)\n",
        "# # Replace new analytical values (after removing outliers)\n",
        "# training_cost_mean[0] = np.mean(training_processed)\n",
        "# training_cost_std[0] = np.std(training_processed)\n",
        "# testing_cost_mean[0] = np.mean(test_processed)\n",
        "# testing_cost_std[0] = np.std(test_processed)\n",
        "\n",
        "# Construct Table\n",
        "df = pd.DataFrame({\n",
        "    \"Training Cost Average\": training_cost_mean,\n",
        "    \"Training Cost STD\": training_cost_std,\n",
        "    \"Test Cost Average\": testing_cost_mean,\n",
        "    \"Test Cost STD\": testing_cost_std,\n",
        "  },\n",
        "  index = [\"Analytical\", \"Mini-Batch\", \"Fully Batched\", \"ADAM\"])\n",
        "\n",
        "print(df)\n",
        "\n",
        "cols = ['X1', 'X3', 'X5', 'X7', 'Bias']\n",
        "rows = [\"Analytical\", \"Mini-Batch\", \"Fully Batched\", \"ADAM\"]\n",
        "dfY1 = pd.DataFrame(weightsY1_avg, columns = cols, index = rows)\n",
        "print(\"\\nAverage Weights for Y1:\\n \", dfY1)\n",
        "dfY2 = pd.DataFrame(weightsY2_avg, columns = cols, index = rows)\n",
        "print(\"\\nAverage Weights for Y1:\\n \", dfY2)\n",
        "# print(training_costs)\n",
        "# print(test_costs)"
      ],
      "metadata": {
        "id": "QVdwZBBKnKTD",
        "colab": {
          "base_uri": "https://localhost:8080/"
        },
        "outputId": "9b36e7a6-ee05-4e6e-a290-a32664f1e4c1"
      },
      "execution_count": 32,
      "outputs": [
        {
          "output_type": "stream",
          "name": "stdout",
          "text": [
            "               Training Cost Average  Training Cost STD  Test Cost Average  \\\n",
            "Analytical                      9.59               0.26              10.15   \n",
            "Mini-Batch                      9.64               0.28              10.19   \n",
            "Fully Batched                   9.59               0.26              10.15   \n",
            "ADAM                            9.67               0.27              10.21   \n",
            "\n",
            "               Test Cost STD  \n",
            "Analytical              1.06  \n",
            "Mini-Batch              1.02  \n",
            "Fully Batched           1.06  \n",
            "ADAM                    1.07  \n",
            "\n",
            "Average Weights for Y1:\n",
            "                   X1   X3   X5   X7  Bias\n",
            "Analytical    -1.49 1.54 9.77 2.72 22.30\n",
            "Mini-Batch    -1.50 1.53 9.76 2.70 22.30\n",
            "Fully Batched -1.49 1.54 9.77 2.72 22.30\n",
            "ADAM          -1.18 1.69 9.50 2.69 22.31\n",
            "\n",
            "Average Weights for Y1:\n",
            "                   X1   X3   X5   X7  Bias\n",
            "Analytical    -2.08 0.83 9.99 1.98 24.59\n",
            "Mini-Batch    -2.07 0.82 9.99 1.97 24.58\n",
            "Fully Batched -2.08 0.83 9.99 1.98 24.59\n",
            "ADAM          -1.95 0.89 9.83 1.93 24.56\n"
          ]
        }
      ]
    },
    {
      "cell_type": "markdown",
      "source": [
        "### Comparing Computation Time of Analytical and Gradient Descent"
      ],
      "metadata": {
        "id": "qVp3WT7lVHzQ"
      }
    },
    {
      "cell_type": "code",
      "source": [
        "import time as t\n",
        "n_runs = 15\n",
        "n_models = 4\n",
        "anatime = []\n",
        "gradtime = []\n",
        "weights = np.empty((n_models, n_runs, bfeatures.shape[1] + 1, 2))\n",
        "x_axis = range(100)\n",
        "batchSize = 32\n",
        "\n",
        "optimizer = GradientDescent(learning_rate=0.1, max_iters=1e4, epsilon=1e-8, beta1=0.5, beta2=0.5, record_history=False, epsilon2=1e-8)\n",
        "\n",
        "np.random.seed(0)\n",
        "# Populate the costs matrices\n",
        "for i in range(n_runs):\n",
        "  inds = np.random.permutation(N)\n",
        "  n_training = int(N * 0.8)\n",
        "  # separate the data for training/test\n",
        "  xn_train, y_train = bfeatures[inds[:n_training]], outputs[inds[:n_training]]\n",
        "  xn_test, y_test = bfeatures[inds[n_training:]], outputs[inds[n_training:]]\n",
        "  # Analytical\n",
        "  start = t.time()\n",
        "  model.fit(xn_train, y_train)\n",
        "  model.predict(xn_test)\n",
        "  finished = t.time() - start\n",
        "  anatime.append(finished)\n",
        "  # Mini-batch\n",
        "  start = t.time()\n",
        "  model.fitMiniBatch(xn_train, y_train, optimizer, batchSize)\n",
        "  finished = t.time() - start\n",
        "  gradtime.append(finished)\n",
        "\n",
        "anaaverage = np.mean(anatime)\n",
        "gradaverage = np.mean(gradtime)\n",
        "\n",
        "print(anaaverage)\n",
        "print(gradaverage)\n",
        "print(gradaverage - anaaverage)"
      ],
      "metadata": {
        "colab": {
          "base_uri": "https://localhost:8080/"
        },
        "id": "o6032ygHVRAT",
        "outputId": "a2fde894-69a7-494b-ef08-ffe6c12acf4a"
      },
      "execution_count": 83,
      "outputs": [
        {
          "output_type": "stream",
          "name": "stdout",
          "text": [
            "0.0010496934254964193\n",
            "0.37415417035420734\n",
            "0.3731044769287109\n"
          ]
        }
      ]
    },
    {
      "cell_type": "markdown",
      "source": [],
      "metadata": {
        "id": "-443Up4ahpUO"
      }
    },
    {
      "cell_type": "markdown",
      "source": [
        "# **TASK** 0 - Inital Tests on Models\n",
        "\n",
        "Done with no test and training splits, just to see if the code we wrote for the models was working\n"
      ],
      "metadata": {
        "id": "h_UhdxT_jK4c"
      }
    },
    {
      "cell_type": "markdown",
      "metadata": {
        "id": "sdnA0XGY9kS8"
      },
      "source": [
        "## Initial Tests of Linear Regression, Gradient Descent, and Mini-Batch\n",
        "\n",
        "Now that the energy data is in the correct format, we will create a LinearRegression object and fit our data. We will only fit it to normalized data, because without data normalization the model does not work.\n",
        "\n",
        "This was discovered because the `np.linalg.lstsq` method automatically normalizes data before it performs its calculation. This led our model to work only with this function, and not the full matrix formula `np.linalg.inv(x.T @ x)@x.T@y`"
      ]
    },
    {
      "cell_type": "code",
      "source": [
        "# create the model that will calculate linear regression for Y1 and Y2\n",
        "model = LinearRegression()\n",
        "batchSize = 128\n",
        "optimizer = GradientDescent()\n",
        "mini = model.fitMiniBatch(nfeatures, outputs, optimizer, batchSize)\n",
        "print(\"mini: \", mini.w)\n",
        "\n",
        "gd = model.fitGradientDescent(nfeatures, outputs, optimizer)\n",
        "print(\"gd: \", gd.w)\n",
        "\n",
        "# The linear regression function fit function takes in x and y \n",
        "# features is the matrix of datapoints that is not normalized\n",
        "# outputs is the matrix of their actual values\n",
        "answer = model.fit(nfeatures,outputs)\n",
        "\n",
        "\n",
        "print(\"answer: \", answer.w)\n",
        "\n",
        "def check (x1, y1, x2, y2,message=\"\") : \n",
        "  # create two plots to show the predicted features: \n",
        "  figure, (axis1, axis2) = plt.subplots(1, 2, figsize=(10, 5))\n",
        "\n",
        "  # plot the actual vs. predicted for Y1\n",
        "  axis1.scatter(x1, y1)\n",
        "  axis1.set_xlabel('Predicted Y1')\n",
        "  axis1.set_ylabel('Actual Y1')\n",
        "  axis1.set_title(\"Actual vs. Predicted Y1 \" + message)\n",
        "  # line y = x\n",
        "  axis1.plot(range(45), range(45), color='r')\n",
        "\n",
        "  # plot the actual vs. predicted for Y2\n",
        "  axis2.scatter(x2, y2)\n",
        "  axis2.set_xlabel('Predicted Y2')\n",
        "  axis2.set_ylabel('Actual Y2')\n",
        "  axis2.set_title(\"Actual vs. Predicted Y2 \" + message)\n",
        "  # line y = x\n",
        "  axis2.plot(range(45), range(45),color='r')\n",
        "\n",
        "  plt.tight_layout()\n",
        "  plt.show()\n",
        "\n",
        "y1 = answer.predict(nfeatures)[:,0:1]\n",
        "y2 = answer.predict(nfeatures)[:,1:2]\n",
        "\n",
        "check(y1, outputs[:,0:1],y2, outputs[:,1:2],\"with Analytical Linear Regression\")\n",
        "\n",
        "\n",
        "# Notes for displaying results\n",
        "# choose the best one feature - compute z score of the weights after regression to find the best feature ( or do a max on weights )\n",
        "# Plot your line ( y = bias + wImp * xImp )\n",
        "\n",
        "# split model into training and testing. You only train with training set. They you see which parameters give the best results\n",
        "# use the test part of the data set to test the final results \n",
        "\n",
        "\n"
      ],
      "metadata": {
        "id": "kXc58bfqw1Xm",
        "colab": {
          "base_uri": "https://localhost:8080/",
          "height": 838
        },
        "outputId": "f9181a56-a566-430d-c6c7-50717f928065"
      },
      "execution_count": 33,
      "outputs": [
        {
          "output_type": "stream",
          "name": "stdout",
          "text": [
            "mini:  [[-0.6399246  -0.77733163]\n",
            " [-1.13089807 -1.12866194]\n",
            " [ 2.57327808  2.08165767]\n",
            " [-2.34556658 -2.10595422]\n",
            " [ 5.33851861  5.35736008]\n",
            " [-0.02603573  0.1359295 ]\n",
            " [ 2.65292701  1.95860954]\n",
            " [ 0.31619713  0.06328993]\n",
            " [22.3061781  24.58647112]]\n",
            "gd:  [[-0.63999888 -0.77742292]\n",
            " [-1.13065486 -1.12833388]\n",
            " [ 2.57352582  2.08196964]\n",
            " [-2.34544906 -2.10578497]\n",
            " [ 5.33819557  5.35685554]\n",
            " [-0.02608279  0.13584663]\n",
            " [ 2.65326765  1.95897259]\n",
            " [ 0.31628125  0.06343453]\n",
            " [22.30618661 24.58664859]]\n",
            "answer:  [[ -7.23458452  -7.86743077]\n",
            " [-11.0556145  -12.45400225]\n",
            " [  4.37200078   4.29248211]\n",
            " [  3.32141713   4.67348622]\n",
            " [  7.29741899   7.49672582]\n",
            " [ -0.02608397   0.13585278]\n",
            " [  2.653721     1.95933927]\n",
            " [  0.31584383   0.0630787 ]\n",
            " [ 22.30719531  24.58776042]]\n"
          ]
        },
        {
          "output_type": "display_data",
          "data": {
            "text/plain": [
              "<Figure size 720x360 with 2 Axes>"
            ],
            "image/png": "[encoded data removed]"
          },
          "metadata": {
            "needs_background": "light"
          }
        }
      ]
    },
    {
      "cell_type": "markdown",
      "source": [
        "From the graph above, we can see that the actual and predicted values are very close to the line y = x, which means the model is working. We can now perform analysis on the analyitcal linear regression model. "
      ],
      "metadata": {
        "id": "5c6yEBE1qn9R"
      }
    },
    {
      "cell_type": "markdown",
      "source": [
        "## Analysis of Gradient Descent\n",
        "\n",
        "We can now test the gradient descent methods on the data to make sure they are working\n",
        "\n",
        "TODO: Proper traingin and testing with training and split data\n",
        "TODO: Proper visualizations for viewing outputs of the model: \n",
        "\n",
        "- Calculate the cost of the model for differnt training splits? \n",
        "- Plot the model with the most important feature\n",
        "- Plot the actual vs. expected on the unseen data\n"
      ],
      "metadata": {
        "id": "OdZN5eATznpi"
      }
    },
    {
      "cell_type": "code",
      "source": [
        "# perform gradient descent to predict Y1\n",
        "optimizer = GradientDescent()\n",
        "model2 = LinearRegression()\n",
        "answery1 = model2.fitGradientDescent(nfeatures, outputs[:,0:1], optimizer)\n",
        "\n",
        "# perform gradient descent to predict Y2\n",
        "optimizer2 = GradientDescent()\n",
        "model3 = LinearRegression()\n",
        "answery2 = model3.fitGradientDescent(nfeatures, outputs[:,1:2], optimizer2)\n",
        "\n",
        "# calculate the predicted values\n",
        "y1 = answery1.predict(nfeatures)\n",
        "y2 = answery2.predict(nfeatures)\n",
        "\n",
        "print(\"Weights for Y1: \", answery1.w)\n",
        "print(\"Weights for Y2: \", answery2.w)\n",
        "\n",
        "# check if  you can run gradient descent on both outputs at the same time\n",
        "optimizer = GradientDescent()\n",
        "model3 = LinearRegression()\n",
        "answerBoth = model3.fitGradientDescent(nfeatures, outputs, optimizer)\n",
        "print(answerBoth.w)\n",
        "\n",
        "# check them with the plotting function\n",
        "check(y1, outputs[:,0:1],y2,outputs[:,1:2], \"with Gradient Descent\")\n",
        "\n",
        "\n"
      ],
      "metadata": {
        "id": "jVLQQ-bZzsKA",
        "colab": {
          "base_uri": "https://localhost:8080/",
          "height": 838
        },
        "outputId": "ec6dd222-cd7c-4956-ebfd-aa99ed518a88"
      },
      "execution_count": 34,
      "outputs": [
        {
          "output_type": "stream",
          "name": "stdout",
          "text": [
            "Weights for Y1:  [[-0.63999888]\n",
            " [-1.13065486]\n",
            " [ 2.57352582]\n",
            " [-2.34544906]\n",
            " [ 5.33819557]\n",
            " [-0.02608279]\n",
            " [ 2.65326765]\n",
            " [ 0.31628125]\n",
            " [22.30618661]]\n",
            "Weights for Y2:  [[-0.77742292]\n",
            " [-1.12833388]\n",
            " [ 2.08196964]\n",
            " [-2.10578497]\n",
            " [ 5.35685554]\n",
            " [ 0.13584663]\n",
            " [ 1.95897259]\n",
            " [ 0.06343453]\n",
            " [24.58664859]]\n",
            "[[-0.63999888 -0.77742292]\n",
            " [-1.13065486 -1.12833388]\n",
            " [ 2.57352582  2.08196964]\n",
            " [-2.34544906 -2.10578497]\n",
            " [ 5.33819557  5.35685554]\n",
            " [-0.02608279  0.13584663]\n",
            " [ 2.65326765  1.95897259]\n",
            " [ 0.31628125  0.06343453]\n",
            " [22.30618661 24.58664859]]\n"
          ]
        },
        {
          "output_type": "display_data",
          "data": {
            "text/plain": [
              "<Figure size 720x360 with 2 Axes>"
            ],
            "image/png": "[encoded data removed]"
          },
          "metadata": {
            "needs_background": "light"
          }
        }
      ]
    },
    {
      "cell_type": "markdown",
      "source": [
        "## Testing the ADAM Gradient Descent\n",
        "\n",
        "TODO: Test properly with training and test set. Could even go for validation set if we wanted to\n",
        "\n",
        "Hyper parameter tuning: plot cost of function on results for different hyperparameter values and use that to pick the best ones\n",
        "\n"
      ],
      "metadata": {
        "id": "euhGM7xb0e52"
      }
    },
    {
      "cell_type": "code",
      "source": [
        "# perform ADAM gradient descent to predict Y1\n",
        "optimizer = GradientDescent(learning_rate=0.0365, max_iters=1e4, epsilon=1e-8, beta1=0.5, beta2=0.5, record_history=False, epsilon2=1e-8)\n",
        "model2 = LinearRegression()\n",
        "answery1 = model2.fitADAM(nfeatures, outputs[:,0:1], optimizer, batch_size=5)\n",
        "\n",
        "# perform ADAM gradient descent to predict Y2\n",
        "model3 = LinearRegression()\n",
        "answery2 = model3.fitADAM(nfeatures, outputs[:,1:2], optimizer,batch_size=5)\n",
        "\n",
        "# calculate the predicted values\n",
        "y1 = answery1.predict(nfeatures)\n",
        "y2 = answery2.predict(nfeatures)\n",
        "\n",
        "print(\"Weights for Y1: \", answery1.w)\n",
        "print(\"Weights for Y2: \", answery2.w)\n",
        "\n",
        "\n",
        "# check them with the plotting function\n",
        "check(y1, outputs[:,0:1],y2,outputs[:,1:2], \"with ADAM Gradient Descent\")"
      ],
      "metadata": {
        "id": "iR7_cCugwSWW",
        "colab": {
          "base_uri": "https://localhost:8080/",
          "height": 681
        },
        "outputId": "cf8e22cb-6f8c-4e4b-b05f-074a38621f30"
      },
      "execution_count": 35,
      "outputs": [
        {
          "output_type": "stream",
          "name": "stdout",
          "text": [
            "Weights for Y1:  [[ 0.48382702]\n",
            " [-0.70488562]\n",
            " [ 2.96716607]\n",
            " [-1.45001968]\n",
            " [ 5.69931299]\n",
            " [ 0.04855838]\n",
            " [ 2.68815406]\n",
            " [ 0.24297461]\n",
            " [22.29086897]]\n",
            "Weights for Y2:  [[ 5.60062849e-01]\n",
            " [-7.44121432e-01]\n",
            " [ 2.57562958e+00]\n",
            " [-9.41409911e-01]\n",
            " [ 5.34183831e+00]\n",
            " [ 2.23193976e-01]\n",
            " [ 1.96524611e+00]\n",
            " [ 1.11660184e-02]\n",
            " [ 2.43262321e+01]]\n"
          ]
        },
        {
          "output_type": "display_data",
          "data": {
            "text/plain": [
              "<Figure size 720x360 with 2 Axes>"
            ],
            "image/png": "[encoded data removed]"
          },
          "metadata": {
            "needs_background": "light"
          }
        }
      ]
    },
    {
      "cell_type": "markdown",
      "source": [
        "# **TASK 2.2** Logistic Regression\n",
        "Implementation of the Logistic Regression model using gradient descent and mini-batch stochastic gradient descent\n",
        "\n",
        "TODO: Clean up and potentially refactor code so it uses gradient descent class?\n",
        "TODO: Break up into smaller cells with more documentation? Not sure \n",
        "TODO: Implement mini batch? \n"
      ],
      "metadata": {
        "id": "5FhmD2O774d_"
      }
    },
    {
      "cell_type": "code",
      "source": [
        "# logistic function\n",
        "def logistic(z):\n",
        "    return 1. / (1 + np.exp(-z))\n",
        "\n",
        "\n",
        "class LogisticRegression:\n",
        "\n",
        "    def __init__(self, add_bias=True, learning_rate=0.01, max_iters=1e4, epsilon=1e-5, record_history=False):\n",
        "        self.add_bias = add_bias\n",
        "        self.learning_rate = learning_rate\n",
        "        self.epsilon = epsilon  # represents termination condition (smallest objective change)\n",
        "        self.max_iters = max_iters  # maximum number of iterations of gradient descent\n",
        "        self.record_history = record_history\n",
        "        self.num_epochs = 0\n",
        "        if record_history:\n",
        "            # record weight history for visualization\n",
        "            self.w_history = []\n",
        "\n",
        "    # uses simple GD\n",
        "    # Formats: \n",
        "    # x - N * D matrix \n",
        "    # y - N * 1 matrix\n",
        "    def fit(self, x, y, _lambda=0):\n",
        "        # add a dimension to make x a matrix\n",
        "        if x.ndim == 1:\n",
        "            x = x[:, None]\n",
        "        \n",
        "        # add bias if requested\n",
        "        if self.add_bias:\n",
        "            N = x.shape[0]\n",
        "            x = np.column_stack([x, np.ones(N)])\n",
        "\n",
        "        N, D = x.shape\n",
        "        self.w = np.zeros(D)\n",
        "        g = np.inf\n",
        "        t = 0\n",
        "\n",
        "        # the code snippet below is for gradient descent\n",
        "        while np.linalg.norm(g) > self.epsilon and t < self.max_iters:\n",
        "            g = self.gradient(x, y, _lambda)\n",
        "            self.w = self.w - self.learning_rate * g\n",
        "            t += 1\n",
        "        \n",
        "        return self\n",
        "\n",
        "    # uses mini-batch SGD\n",
        "    # Formats: \n",
        "    # x - N * D matrix \n",
        "    # y - N * 1 matrix\n",
        "    def fitMB(self, x, y, batch_size, _lambda=0):\n",
        "        # add a dimension to make x a matrix\n",
        "        if x.ndim == 1:\n",
        "            x = x[:, None]\n",
        "        \n",
        "        # add bias if requested\n",
        "        if self.add_bias:\n",
        "            N = x.shape[0]\n",
        "            x = np.column_stack([x, np.ones(N)])\n",
        "\n",
        "        N, D = x.shape\n",
        "        self.w = np.zeros(D)\n",
        "        g = np.inf\n",
        "        t = 0\n",
        "\n",
        "        # calls mini-batch code\n",
        "        self.w = self.runMiniBatchLogistic(x, y, batch_size)\n",
        "        \n",
        "        return self\n",
        "\n",
        "    # predict the output for a given input\n",
        "    def predict(self, x):\n",
        "        # add a dimension to make x a matrix\n",
        "        if x.ndim == 1:\n",
        "            x = x[:, None]\n",
        "        N_t = x.shape[0] # N\n",
        "\n",
        "        # add bias if requested\n",
        "        if self.add_bias:\n",
        "            x = np.column_stack([x, np.ones(N_t)])\n",
        "        \n",
        "        # compute output using weight vector\n",
        "        yh = logistic(np.dot(x, self.w))\n",
        "        return yh\n",
        "\n",
        "    # gradient function of the logistic function\n",
        "    def gradient(self, x, y, _lambda=0):\n",
        "        N,D = x.shape\n",
        "\n",
        "        # x = N * D | w = D * 1 => x (.) w = N * 1\n",
        "        # predictions from logistic function - size N\n",
        "        yh = logistic(np.dot(x, self.w))\n",
        " \n",
        "        # x = N * D matrix | yh = N * 1 matrix | y = N * 1 matrix \n",
        "        # !! (yh - y) does not throw an error if it does not work\n",
        "        # (yh - y) = N * 1 | x = N * D, but it needs to be D * N \n",
        "        # do x.T. The gradient result is now (D * N ) . (N * 1 ) = D * 1\n",
        "        grad = 0.5 * np.dot(x.T, yh - y)/N        # divide by N because cost is mean over N points\n",
        "\n",
        "        #L1 regularization\n",
        "        grad[:D] += _lambda * np.sign(self.w[:D])\n",
        "\n",
        "        return grad                         # size D\n",
        "    \n",
        "    # Create mini-batch indices \n",
        "    def createMiniBatchIndex(self, N, batchSize):\n",
        "        miniBatches = []\n",
        "        index = list(range(N))  # Create a list of indices from 0 to N-1\n",
        "        np.random.shuffle(index)  # Randomize the order of the indices\n",
        "        numberOfMiniBatches = N // batchSize  # Number of complete mini batches\n",
        "        for i in range(numberOfMiniBatches):\n",
        "            miniBatches.append(index[i * batchSize:(i + 1) * batchSize])\n",
        "        if N % batchSize != 0:  # If there are remaining data points\n",
        "            # Add the remaining data points to the last mini batch\n",
        "            miniBatches.append(index[numberOfMiniBatches * batchSize:])\n",
        "        return miniBatches\n",
        "\n",
        "    # Run the mini-batch gradient descent algotithm\n",
        "    def runMiniBatchLogistic(self, x, y, batch_size):\n",
        "        N, D = x.shape\n",
        "        grad = np.inf\n",
        "        t = 0\n",
        "        w = np.zeros(D)  # Initial weights\n",
        "        # print(\"w: \", w.shape)\n",
        "        # running = True\n",
        "        # initialize epoch reached to True\n",
        "        epochReached = True\n",
        "        epoch_counter = -1  # first conditional is not an epoch\n",
        "        while np.linalg.norm(grad) > self.epsilon and t < self.max_iters:\n",
        "            # if epoch has been reached, generate new set of batches of gradient\n",
        "            if epochReached == True: \n",
        "                # minibatches is a list of lists of indicies. Each inner list has batch_size number of random indicies\n",
        "                minibatches = self.createMiniBatchIndex(N, batch_size)\n",
        "                epochReached = False\n",
        "                epoch_counter += 1\n",
        "            numberOfMiniBatches = (N//batch_size)\n",
        "            # access the minibatch at the right index according to which iteration we are at\n",
        "            minibatch = minibatches[t % numberOfMiniBatches]\n",
        "            # counter to count how many items there are in a batch ( necessary because last batch could have extra items )\n",
        "            counter = 0\n",
        "            # initialize gradient to be set of 0 vectors\n",
        "            grad = np.zeros(D)\n",
        "            # loop over all indexes in the minibatch list\n",
        "            for index in minibatch: \n",
        "                # get the data points\n",
        "                xp = x[index]           \n",
        "                yp = y[index]\n",
        "\n",
        "                # add a dimension to xp for the multiplication\n",
        "                # xp = D * 1\n",
        "                xp = xp[:,None]\n",
        "                \n",
        "                # yp = scalar\n",
        "\n",
        "                # predict the y value\n",
        "                # (1 * D) * (D * 1) = scalar\n",
        "                # ADDED LOGISTIC FUNCTION\n",
        "                yh = logistic(xp.T @ w)\n",
        "\n",
        "                # calculate the gradient. Add to it and take the average after\n",
        "                # (D * 1) * scalar = D * 1\n",
        "                grad += np.dot(xp,yh - yp.T)\n",
        "                counter += 1\n",
        "\n",
        "            # Take the average\n",
        "            grad = grad / (counter)\n",
        "\n",
        "        # adjust learning rate according to gradient\n",
        "            w = w - self.learning_rate * grad\n",
        "            if self.record_history:\n",
        "                self.w_history.append(w)\n",
        "            t += 1\n",
        "            # if t is divisible by the number of batches, epoch has been reached\n",
        "            if t != 0 and t % numberOfMiniBatches == 0 : \n",
        "                epochReached = True\n",
        "        #   if np.linalg.norm(grad) <= self.epsilon or t >= self.max_iters:\n",
        "        #     running = False\n",
        "        #     break\n",
        "        self.num_epochs = epoch_counter\n",
        "\n",
        "        return w"
      ],
      "metadata": {
        "id": "OEdf0Ssp8JhN"
      },
      "execution_count": 36,
      "outputs": []
    },
    {
      "cell_type": "markdown",
      "source": [
        "## Testing Logistic Regression\n",
        "\n",
        "Now we will test the model using the sample bank data:\n",
        "\n",
        "TODO: test and compare with minibatch\n",
        "TODO: uses error measurements like the confusion matrix and other calculations. Show results graphically"
      ],
      "metadata": {
        "id": "GMSMK9Sa8ez1"
      }
    },
    {
      "cell_type": "markdown",
      "source": [
        "### Model performance analysis\n",
        "\n",
        "Method to compare a predicted output with the corresponding test labels\n",
        "\n",
        "Takes in as parameters:\n",
        "\n",
        "\n",
        "*   y (list of output labels for test data, decoded/in qualitative form)\n",
        "*   y_hat (list of predicted labels, matching format of y)\n",
        "\n",
        "Outputs:\n",
        "\n",
        "\n",
        "*   error %\n",
        "*   list of indices (within test data) of errors, if there are any\n",
        "\n",
        "\n"
      ],
      "metadata": {
        "id": "i3pcr1RhpVTp"
      }
    },
    {
      "cell_type": "code",
      "source": [
        "# check the performance of the model\n",
        "def analyze_model_performance(y, y_hat):\n",
        "    # number of test instances\n",
        "    N = np.size(y) \n",
        "    error = 0\n",
        "    error_indices = []\n",
        "    # increment error by 1 every time there is an error\n",
        "    for instance in range(N):\n",
        "        if y[instance] != y_hat[instance]:\n",
        "            error += 1\n",
        "            error_indices.append(instance)\n",
        "    # divide by N to get percentage of error\n",
        "    return error/float(N), error_indices"
      ],
      "metadata": {
        "id": "3rcYlveKqZpB"
      },
      "execution_count": 37,
      "outputs": []
    },
    {
      "cell_type": "markdown",
      "source": [
        "### Logistic Regression test function\n",
        "\n",
        "Method that fits a LR model according to hyperparameters specified.\n",
        "\n",
        "Takes in as parameters:\n",
        "\n",
        "*   minibatch (boolean, True will fit model using mini-batch SGD, False will use simple gradient descent, default=False)\n",
        "*   train_test_split (float between 0 and 1 representing the % of data used to train - the rest will be used to test, default=0.8)\n",
        "*   l_rate (float, learning rate for GD, default = 0.1)\n",
        "*   b_size (integer, batch size for mini-batch SGD, default=1)\n",
        "*   verbose (boolean, True will print values listed below)\n",
        "\n",
        "Outputs:\n",
        "\n",
        "*   w (vector of model weights)\n",
        "*   one_hot_encoded_bank_data (N * D+2 matrix)\n",
        "*   y_hat (list of predicted output data)\n",
        "\n",
        "Prints:\n",
        "\n",
        "*   weight vector\n"
      ],
      "metadata": {
        "id": "5q5phjgHqlvP"
      }
    },
    {
      "cell_type": "code",
      "source": [
        "import random as rand\n",
        "# tool for one hot encoding\n",
        "from sklearn.preprocessing import OneHotEncoder\n",
        "warnings.filterwarnings('ignore')\n",
        "\n",
        "bank_data = pd.read_csv(\"Qualitative_Bankruptcy.data.txt\", header=None)\n",
        "# create the encoder and encode the data\n",
        "enc = OneHotEncoder(handle_unknown='ignore')\n",
        "enc.fit(bank_data)\n",
        "print(\"Encoding categories:\")\n",
        "print(enc.categories_)  # shows the one-hot encoding format for the data\n",
        "\n",
        "def test_logistic(minibatch=False, train_test_split=0.8, l_rate=0.1, b_size=1, lamb=0, training=False, epochs=False, verbose=True):\n",
        "    # N * D matrix\n",
        "    one_hot_encoded_bank_data = enc.transform(bank_data).toarray()\n",
        "    # randomize the data - right now is random\n",
        "    rand.shuffle(one_hot_encoded_bank_data)  # since data taken in is sorted by feature\n",
        "\n",
        "    # print(one_hot_encoded_bank_data[0]) - gives a list of 20 features ( 6 * 3 for the features, 2 for the output features ( B or NB ))\n",
        "\n",
        "    training_set_x, test_set_x, training_set_y, test_set_y, split_index = split_data(one_hot_encoded_bank_data, train_test_split)\n",
        "    \n",
        "    if minibatch == False:\n",
        "        log_model = LogisticRegression(learning_rate=l_rate)\n",
        "        # this also adds a bias to the logistic regression, since the bias is by default true\n",
        "        log_model.fit(training_set_x, training_set_y, _lambda=lamb)\n",
        "    else:\n",
        "        log_model = LogisticRegression(learning_rate=l_rate)\n",
        "        log_model.fitMB(training_set_x, training_set_y, b_size, _lambda=lamb)\n",
        "    \n",
        "    if training:\n",
        "        y_hat = log_model.predict(training_set_x)\n",
        "    else:\n",
        "        y_hat = log_model.predict(test_set_x)\n",
        "\n",
        "    if verbose:\n",
        "        print(\"\\nModel weight vector:\")\n",
        "        print(log_model.w)\n",
        "\n",
        "        if training:\n",
        "            test_y = decode_y(training_set_y)\n",
        "        else:\n",
        "            test_y = decode_y(test_set_y)\n",
        "        y_hat_decoded = decode_y(y_hat)\n",
        "\n",
        "        print(\"\\nActual test data:\")\n",
        "        print(test_y)\n",
        "        print(\"\\nPredicted Test data:\")\n",
        "        print(y_hat_decoded)\n",
        "        error_pct, error_indices = analyze_model_performance(test_y, y_hat_decoded)\n",
        "        print(f'\\nError percentage: {error_pct}')\n",
        "        if error_pct > 0:\n",
        "            print(\"Errors:\")\n",
        "            for index in error_indices:\n",
        "                instance = enc.inverse_transform(one_hot_encoded_bank_data)[split_index + index]\n",
        "                print(f'\\tInstance {instance} should have output label {test_y[index]} but was assigned {y_hat_decoded[index]}')\n",
        "    if epochs:\n",
        "        return log_model.w, one_hot_encoded_bank_data, y_hat, log_model.num_epochs\n",
        "    return log_model.w, one_hot_encoded_bank_data, y_hat\n",
        "\n",
        "# splits one-hot encoded data\n",
        "def split_data(data, split):\n",
        "    # transpose x once to make it D * N, and take the first 18 rows ( all 6 features ). Transpose again to make it back into the model we want\n",
        "    # x - finally is N * D\n",
        "    x = np.transpose(np.transpose(data)[:18])\n",
        "\n",
        "    # transpose y once, because they want y in as an array [1,2,3,4...]\n",
        "    # we only to take one of the output features, we only a one dimensional ouptut with 2 possible qualitiative values.\n",
        "    #  Col [18]: NB | Col [19]: B. Take Col 18 - one collum from a D * N matrix is a 1 * N matrix\n",
        "    y = np.transpose(data)[18]\n",
        "\n",
        "    split_index = int(x.shape[0] * split)\n",
        "    training_set_x = x[:split_index]\n",
        "    test_set_x = x[split_index:]\n",
        "    training_set_y = y[:split_index]\n",
        "    test_set_y = y[split_index:]\n",
        "\n",
        "    return training_set_x, test_set_x, training_set_y, test_set_y, split_index\n",
        "\n",
        "# decodes one-hot encoded output\n",
        "def decode_y(y):\n",
        "    return  ['NB' if instance < 0.5 else 'B' for instance in y]"
      ],
      "metadata": {
        "id": "PoR-0xxNumNx",
        "colab": {
          "base_uri": "https://localhost:8080/"
        },
        "outputId": "13f7186c-3092-4496-f70a-b4cc7a3ddbd6"
      },
      "execution_count": 38,
      "outputs": [
        {
          "output_type": "stream",
          "name": "stdout",
          "text": [
            "Encoding categories:\n",
            "[array(['A', 'N', 'P'], dtype=object), array(['A', 'N', 'P'], dtype=object), array(['A', 'N', 'P'], dtype=object), array(['A', 'N', 'P'], dtype=object), array(['A', 'N', 'P'], dtype=object), array(['A', 'N', 'P'], dtype=object), array(['B', 'NB'], dtype=object)]\n"
          ]
        }
      ]
    },
    {
      "cell_type": "markdown",
      "source": [
        "####Testing Logistic Regression using gradient descent"
      ],
      "metadata": {
        "id": "ee6IdcSX8C8i"
      }
    },
    {
      "cell_type": "code",
      "source": [
        "w, data, y_hat = test_logistic(minibatch=False, train_test_split=0.8, l_rate=0.1, verbose=True)"
      ],
      "metadata": {
        "id": "rCWPbG8X8MfJ",
        "colab": {
          "base_uri": "https://localhost:8080/"
        },
        "outputId": "86d58dc1-3b4b-4c50-9f23-66a0f3ea1e64"
      },
      "execution_count": 39,
      "outputs": [
        {
          "output_type": "stream",
          "name": "stdout",
          "text": [
            "\n",
            "Model weight vector:\n",
            "[-4.86321456e-01  6.14587902e-01 -1.35528920e+00 -3.32993098e-01\n",
            " -1.85019274e-03 -8.92179466e-01 -1.27359510e+00  1.35350101e+00\n",
            " -1.30692866e+00 -7.80711342e-01  1.25765346e+00 -1.70396488e+00\n",
            " -1.71163039e+00  3.02831133e+00 -2.54370370e+00 -4.16189521e-01\n",
            " -2.92370931e-01 -5.18462305e-01 -1.22702276e+00]\n",
            "\n",
            "Actual test data:\n",
            "['NB', 'NB', 'NB', 'NB', 'NB', 'B', 'B', 'NB', 'B', 'NB', 'NB', 'NB', 'B', 'B', 'NB', 'NB', 'B', 'B', 'NB', 'B', 'B', 'B', 'NB', 'B', 'B', 'NB', 'NB', 'B', 'NB', 'NB', 'B', 'NB', 'NB', 'B', 'B', 'NB', 'NB', 'NB', 'NB', 'B', 'B', 'B', 'B', 'B', 'B', 'B', 'B', 'B', 'B', 'B']\n",
            "\n",
            "Predicted Test data:\n",
            "['NB', 'NB', 'NB', 'NB', 'NB', 'B', 'B', 'NB', 'B', 'NB', 'NB', 'NB', 'B', 'B', 'NB', 'NB', 'B', 'B', 'NB', 'B', 'B', 'B', 'NB', 'B', 'B', 'NB', 'NB', 'B', 'NB', 'NB', 'B', 'NB', 'NB', 'B', 'B', 'NB', 'NB', 'NB', 'NB', 'B', 'B', 'B', 'B', 'B', 'B', 'B', 'B', 'B', 'B', 'B']\n",
            "\n",
            "Error percentage: 0.0\n"
          ]
        }
      ]
    },
    {
      "cell_type": "markdown",
      "source": [
        "####Testing Logistic Regression using mini-batch SGD"
      ],
      "metadata": {
        "id": "sA4QfjNN8zPt"
      }
    },
    {
      "cell_type": "code",
      "source": [
        "w, data, y_hat = test_logistic(minibatch=True, train_test_split=0.8, l_rate=0.1, b_size=16, verbose=True)"
      ],
      "metadata": {
        "id": "Os7BnOkX83v0",
        "colab": {
          "base_uri": "https://localhost:8080/"
        },
        "outputId": "ea50368d-07cb-4475-bfd5-920f039b7a4d"
      },
      "execution_count": 40,
      "outputs": [
        {
          "output_type": "stream",
          "name": "stdout",
          "text": [
            "\n",
            "Model weight vector:\n",
            "[-0.46472429 -0.44547692 -0.53093821 -0.80853638  0.35722704 -0.98983007\n",
            " -1.68514061  1.82394641 -1.57994521 -1.50504473  1.99615214 -1.93224682\n",
            " -1.58972794  2.51872628 -2.37013775  0.12639885 -0.26768584 -1.29985243\n",
            " -1.44113941]\n",
            "\n",
            "Actual test data:\n",
            "['B', 'B', 'NB', 'NB', 'NB', 'NB', 'B', 'NB', 'NB', 'B', 'B', 'NB', 'NB', 'NB', 'NB', 'NB', 'B', 'NB', 'NB', 'NB', 'NB', 'B', 'NB', 'B', 'NB', 'NB', 'B', 'B', 'NB', 'NB', 'NB', 'NB', 'NB', 'NB', 'B', 'NB', 'NB', 'NB', 'NB', 'B', 'B', 'NB', 'NB', 'NB', 'B', 'NB', 'NB', 'NB', 'NB', 'NB']\n",
            "\n",
            "Predicted Test data:\n",
            "['B', 'B', 'NB', 'NB', 'NB', 'NB', 'B', 'NB', 'NB', 'B', 'B', 'NB', 'NB', 'NB', 'NB', 'NB', 'B', 'NB', 'NB', 'NB', 'NB', 'B', 'NB', 'B', 'NB', 'NB', 'B', 'B', 'NB', 'NB', 'NB', 'NB', 'NB', 'NB', 'B', 'NB', 'NB', 'NB', 'NB', 'B', 'B', 'NB', 'NB', 'NB', 'B', 'NB', 'NB', 'NB', 'NB', 'NB']\n",
            "\n",
            "Error percentage: 0.0\n"
          ]
        }
      ]
    },
    {
      "cell_type": "markdown",
      "source": [
        "###Cost Function"
      ],
      "metadata": {
        "id": "cS3dEJWdS-pz"
      }
    },
    {
      "cell_type": "code",
      "source": [
        "def cost_fn(y, y_hat):\n",
        "    J = np.mean(y * np.log1p(np.exp(-y_hat)) + (1-y) * np.log1p(np.exp(y_hat)))  #log1p calculates log(1+x) to remove floating point inaccuracies \n",
        "    return J"
      ],
      "metadata": {
        "id": "poWlk6GNTB3f"
      },
      "execution_count": 41,
      "outputs": []
    },
    {
      "cell_type": "markdown",
      "source": [
        "### Plotting Logistic Regression\n",
        "\n",
        "Plot of logistic regression results on a random run. Random jitter applied to aid with visualization.\n",
        "\n",
        "*   x-axis: strongest feature (competitiveness, X5)\n",
        "*   y-axis: logistic probability\n",
        "\n"
      ],
      "metadata": {
        "id": "XL04etctyBJ1"
      }
    },
    {
      "cell_type": "code",
      "source": [
        "def plot_logistic(minibatch=False, split=0.8, learning_rate=0.1, batch_size=5, verbose=False):\n",
        "    w, data, y_hat = test_logistic(minibatch=minibatch, train_test_split=split, l_rate=learning_rate, b_size=batch_size, verbose=verbose)\n",
        "    training_set_x, test_set_x, training_set_y, test_set_y, split_index = split_data(data, split)\n",
        "\n",
        "    # plots\n",
        "    # x5 seems to be the most important feature, so we will plot it against y\n",
        "    x5 = np.transpose(test_set_x)[12:15]\n",
        "    x5_quali = []\n",
        "    for index in range(x5.shape[1]):\n",
        "        x5_val = 0\n",
        "        if x5[0, index] == 1:\n",
        "            x5_val = 'Average'\n",
        "        elif x5[1, index] == 1:\n",
        "            x5_val = 'Negative'\n",
        "        elif x5[2, index] == 1:\n",
        "            x5_val = 'Positive'\n",
        "        else:\n",
        "            print(\"error in data\")\n",
        "        x5_quali.append(x5_val)\n",
        "\n",
        "    #sorting for correct plotting order (Negative, Average, Positive)\n",
        "    index = 1\n",
        "    while x5_quali[0] != 'Negative' and index < len(x5_quali):\n",
        "        temp = x5_quali[0]\n",
        "        x5_quali[0] = x5_quali[index]\n",
        "        x5_quali[index] = temp\n",
        "        temp = y_hat[0]\n",
        "        y_hat[0] = y_hat[index]\n",
        "        y_hat[index] = temp\n",
        "        index += 1\n",
        "    \n",
        "    while x5_quali[1] != 'Average' and index < len(x5_quali):\n",
        "        temp = x5_quali[1]\n",
        "        x5_quali[1] = x5_quali[index]\n",
        "        x5_quali[index] = temp\n",
        "        temp = y_hat[1]\n",
        "        y_hat[1] = y_hat[index]\n",
        "        y_hat[index] = temp\n",
        "        index += 1\n",
        "    \n",
        "    # y^ values are heavily overlapping\n",
        "    # as such, I am adding jitter (random noise) to improve visualization\n",
        "    y_hat_jittered = []\n",
        "    for point in y_hat:\n",
        "        if point > 0.5:\n",
        "            y_hat_jittered.append(point - 0.1 * rand.random())\n",
        "        else:\n",
        "            y_hat_jittered.append(point + 0.1 * rand.random())\n",
        "\n",
        "    plt.plot(x5_quali, y_hat_jittered, '.', alpha=.5, label='test data', color = 'c')\n",
        "    plt.axhline(y=0.5, color='m', label='decision boundary')\n",
        "    plt.xlabel('Competitiveness (X5)')\n",
        "    plt.ylabel('Probaility of Bankruptcy $(y = \\sigma(w^Tx))$')\n",
        "    plt.title('Probability of Bankruptcy vs. Competitiveness')\n",
        "    plt.legend()\n",
        "    plt.show()"
      ],
      "metadata": {
        "id": "bu3725nG8kgW"
      },
      "execution_count": 42,
      "outputs": []
    },
    {
      "cell_type": "markdown",
      "source": [
        "####Plotting Logistic with GD"
      ],
      "metadata": {
        "id": "e8VrXSjt6_f_"
      }
    },
    {
      "cell_type": "code",
      "source": [
        "plot_logistic(minibatch=False, split=0.8, learning_rate=0.1)"
      ],
      "metadata": {
        "id": "CNYI9MB_7Dvz",
        "colab": {
          "base_uri": "https://localhost:8080/",
          "height": 0
        },
        "outputId": "552f9552-98fa-439f-c0a5-1b021524730f"
      },
      "execution_count": 43,
      "outputs": [
        {
          "output_type": "display_data",
          "data": {
            "text/plain": [
              "<Figure size 432x288 with 1 Axes>"
            ],
            "image/png": "[encoded data removed]"
          },
          "metadata": {
            "needs_background": "light"
          }
        }
      ]
    },
    {
      "cell_type": "markdown",
      "source": [
        "####Plotting Logistic with mini-batch SGD"
      ],
      "metadata": {
        "id": "mvzHxvWz7dx3"
      }
    },
    {
      "cell_type": "code",
      "source": [
        "plot_logistic(minibatch=True, split=0.8, learning_rate=0.1, batch_size=16)"
      ],
      "metadata": {
        "id": "P-DYjU9f7jQG",
        "colab": {
          "base_uri": "https://localhost:8080/",
          "height": 295
        },
        "outputId": "4481a0dd-dba1-47f6-eab5-57ee60f87b14"
      },
      "execution_count": 44,
      "outputs": [
        {
          "output_type": "display_data",
          "data": {
            "text/plain": [
              "<Figure size 432x288 with 1 Axes>"
            ],
            "image/png": "[encoded data removed]"
          },
          "metadata": {
            "needs_background": "light"
          }
        }
      ]
    },
    {
      "cell_type": "markdown",
      "source": [
        "### Confusion Matrix and Performance Metrics"
      ],
      "metadata": {
        "id": "GlteCy7G6Uim"
      }
    },
    {
      "cell_type": "code",
      "source": [
        "def compute_performance(minibatch=False, split=0.8, learning_rate=0.1, batch_size=5, verbose=False):\n",
        "    w, data, y_hat = test_logistic(minibatch=False, train_test_split=split, l_rate=learning_rate, b_size=batch_size, verbose=verbose)\n",
        "    training_set_x, test_set_x, training_set_y, test_set_y, split_index = split_data(data, split)\n",
        "    test_y = decode_y(test_set_y)\n",
        "    y_hat_decoded = decode_y(y_hat)\n",
        "    \n",
        "    # confusion matrix\n",
        "    tp = sum([1 if test_y[index] == 'B' and y_hat_decoded[index] == 'B' else 0 for index, label in enumerate(test_y)])\n",
        "    fp = sum([1 if test_y[index] == 'NB' and y_hat_decoded[index] == 'B' else 0 for index, label in enumerate(test_y)])\n",
        "    fn = sum([1 if test_y[index] == 'B' and y_hat_decoded[index] == 'NB' else 0 for index, label in enumerate(test_y)])\n",
        "    tn = sum([1 if test_y[index] == 'NB' and y_hat_decoded[index] == 'NB' else 0 for index, label in enumerate(test_y)])\n",
        "\n",
        "    confusion = [[tp, fp], [fn, tn]]\n",
        "    df_confusion = pd.DataFrame(confusion, columns=['B', 'NB'], index=['B', 'NB'])\n",
        "    # plt.figure(figsize=(10,7))\n",
        "    sns.heatmap(df_confusion, annot=True,cmap='viridis')\n",
        "    plt.xlabel('Truth')\n",
        "    plt.ylabel('Result')\n",
        "    plt.title('Confusion Matrix for Logistic Regression')\n",
        "    plt.show()\n",
        "\n",
        "    # performance metrics\n",
        "    p = tp + fn\n",
        "    n = fp + tn\n",
        "    rp = tp + fp\n",
        "    rn = fn + tn\n",
        "    precision = (tp + tn) / (p + n)\n",
        "    recall = tp / p\n",
        "    print(f'\\nAccuracy: {(tp + tn) / (p + n)}')\n",
        "    print(f'Precision: {precision}')\n",
        "    print(f'Recall: {recall}')\n",
        "    print(f'F1 score: {2 * precision * recall / (precision + recall)}')\n",
        "    print(f'Miss rate: {fn / p}')\n",
        "    print(f'Fallout: {fp / n}')"
      ],
      "metadata": {
        "id": "5BJh8Z-U6aAN"
      },
      "execution_count": 74,
      "outputs": []
    },
    {
      "cell_type": "markdown",
      "source": [
        "####Confusion matrix & Performance Metrics for Logistic with GD"
      ],
      "metadata": {
        "id": "N_7w02IJ9Tfz"
      }
    },
    {
      "cell_type": "code",
      "source": [
        "compute_performance(minibatch=False, split=0.8, learning_rate=0.1)"
      ],
      "metadata": {
        "id": "VEdKcquf9lk7",
        "colab": {
          "base_uri": "https://localhost:8080/",
          "height": 416
        },
        "outputId": "6c0539aa-cc2b-4cd3-f13b-c3979271a55e"
      },
      "execution_count": 77,
      "outputs": [
        {
          "output_type": "display_data",
          "data": {
            "text/plain": [
              "<Figure size 432x288 with 2 Axes>"
            ],
            "image/png": "[encoded data removed]"
          },
          "metadata": {
            "needs_background": "light"
          }
        },
        {
          "output_type": "stream",
          "name": "stdout",
          "text": [
            "\n",
            "Accuracy: 1.0\n",
            "Precision: 1.0\n",
            "Recall: 1.0\n",
            "F1 score: 1.0\n",
            "Miss rate: 0.0\n",
            "Fallout: 0.0\n"
          ]
        }
      ]
    },
    {
      "cell_type": "markdown",
      "source": [
        "####Confusion matrix & Performance Metrics for Logistic with with mini-batch SGD"
      ],
      "metadata": {
        "id": "IpBmkUxh9g6i"
      }
    },
    {
      "cell_type": "code",
      "source": [
        "compute_performance(minibatch=True, split=0.8, learning_rate=0.1, batch_size=16)"
      ],
      "metadata": {
        "id": "tH27lm7P9oLT",
        "colab": {
          "base_uri": "https://localhost:8080/",
          "height": 416
        },
        "outputId": "8d36d6d8-a596-4cdf-e7e7-23e61bc56c66"
      },
      "execution_count": 47,
      "outputs": [
        {
          "output_type": "display_data",
          "data": {
            "text/plain": [
              "<Figure size 432x288 with 2 Axes>"
            ],
            "image/png": "[encoded data removed]"
          },
          "metadata": {
            "needs_background": "light"
          }
        },
        {
          "output_type": "stream",
          "name": "stdout",
          "text": [
            "\n",
            "Accuracy: 0.96\n",
            "Precision: 0.96\n",
            "Recall: 0.9130434782608695\n",
            "F1 score: 0.935933147632312\n",
            "Miss rate: 0.08695652173913043\n",
            "Fallout: 0.0\n"
          ]
        }
      ]
    },
    {
      "cell_type": "markdown",
      "source": [
        "#Task 3 Run Experiments"
      ],
      "metadata": {
        "id": "o7NeR41VUVZz"
      }
    },
    {
      "cell_type": "markdown",
      "source": [
        "##Task 3.1 Report the performance of linear regression and fully batched logistic regression\n"
      ],
      "metadata": {
        "id": "9kCCIHATU3F6"
      }
    },
    {
      "cell_type": "markdown",
      "source": [
        "###Performance on training set\n",
        "\n",
        "Average of 15 runs"
      ],
      "metadata": {
        "id": "y1s6vxj3Vv-S"
      }
    },
    {
      "cell_type": "code",
      "source": [
        "n = 15\n",
        "cost = []\n",
        "for i in range(n):\n",
        "    w, data, y_hat = test_logistic(minibatch=False, train_test_split=0.8, l_rate=0.1, training=True, verbose=False)\n",
        "    training_set_x, test_set_x, training_set_y, test_set_y, split_index = split_data(data, 0.8)\n",
        "    cost.append(cost_fn(training_set_y, y_hat))\n",
        "print(f\"Average cost of Logistic Regression (training set, {n} runs): {np.mean(cost)}\")"
      ],
      "metadata": {
        "colab": {
          "base_uri": "https://localhost:8080/"
        },
        "id": "YlaKgBUbU-Ri",
        "outputId": "383055d2-5c81-44a2-9184-933ca9dcf18e"
      },
      "execution_count": 48,
      "outputs": [
        {
          "output_type": "stream",
          "name": "stdout",
          "text": [
            "Average cost of Logistic Regression (training set, 15 runs): 0.6759094207614401\n"
          ]
        }
      ]
    },
    {
      "cell_type": "markdown",
      "source": [
        "###Performance on test set\n",
        "\n",
        "Average of 15 runs"
      ],
      "metadata": {
        "id": "jqDGRnFEWpSQ"
      }
    },
    {
      "cell_type": "code",
      "source": [
        "n = 15\n",
        "cost = []\n",
        "for i in range(n):\n",
        "    w, data, y_hat = test_logistic(minibatch=False, train_test_split=0.8, l_rate=0.1, training=False, verbose=False)\n",
        "    training_set_x, test_set_x, training_set_y, test_set_y, split_index = split_data(data, 0.8)\n",
        "    cost.append(cost_fn(test_set_y, y_hat))\n",
        "print(f\"Average cost of Logistic Regression (test set, {n} runs): {np.mean(cost)}\")"
      ],
      "metadata": {
        "id": "5p7ifr9rWuuP",
        "colab": {
          "base_uri": "https://localhost:8080/"
        },
        "outputId": "e2e02325-3c60-46c5-906a-7c315579fb4d"
      },
      "execution_count": 49,
      "outputs": [
        {
          "output_type": "stream",
          "name": "stdout",
          "text": [
            "Average cost of Logistic Regression (test set, 15 runs): 0.5753277123992359\n"
          ]
        }
      ]
    },
    {
      "cell_type": "markdown",
      "source": [
        "##Task 3.2 Report the weights of each of features in your trained models"
      ],
      "metadata": {
        "id": "HLejqrk_X5uK"
      }
    },
    {
      "cell_type": "markdown",
      "source": [
        "###Feature weights for fully batched logistic regression\n",
        "\n",
        "Average of 15 runs"
      ],
      "metadata": {
        "id": "RGJMLaqoYITU"
      }
    },
    {
      "cell_type": "code",
      "source": [
        "n = 15\n",
        "weights = []\n",
        "feature_names = ['Industrial Risk', 'Management Risk', 'Financial Flexibility', 'Credibility', 'Competitiveness', 'Operating Risk']\n",
        "attributes = ['Average', 'Negative', 'Positive']\n",
        "for i in range(n):\n",
        "    w, data, y_hat = test_logistic(minibatch=False, train_test_split=0.8, l_rate=0.1, training=True, verbose=False)\n",
        "    weights.append(w)\n",
        "avg_weights = np.mean(weights, axis=0)\n",
        "print(f\"Average weights of Logistic Regression (fully batched, {n} runs):\")\n",
        "for index, feature in enumerate(avg_weights):\n",
        "    if index == 18:\n",
        "        print(f'\\tBias: {feature}')\n",
        "    else:\n",
        "        print(f'\\t{feature_names[index // 3]} - {attributes[index % 3]}: {feature}')"
      ],
      "metadata": {
        "id": "QM9qJxCgX48r",
        "colab": {
          "base_uri": "https://localhost:8080/"
        },
        "outputId": "64cb9124-d283-4ddc-c492-1d6f72e30472"
      },
      "execution_count": 50,
      "outputs": [
        {
          "output_type": "stream",
          "name": "stdout",
          "text": [
            "Average weights of Logistic Regression (fully batched, 15 runs):\n",
            "\tIndustrial Risk - Average: -0.8154394097052113\n",
            "\tIndustrial Risk - Negative: 0.1664122486429069\n",
            "\tIndustrial Risk - Positive: -0.6402098867079539\n",
            "\tManagement Risk - Average: -0.6488646045858713\n",
            "\tManagement Risk - Negative: 0.13763810222003162\n",
            "\tManagement Risk - Positive: -0.7780105454044197\n",
            "\tFinancial Flexibility - Average: -1.4068131016802334\n",
            "\tFinancial Flexibility - Negative: 1.5354925148298597\n",
            "\tFinancial Flexibility - Positive: -1.4179164609198887\n",
            "\tCredibility - Average: -1.1106110013970893\n",
            "\tCredibility - Negative: 1.5160553634861256\n",
            "\tCredibility - Positive: -1.6946814098592924\n",
            "\tCompetitiveness - Average: -1.5403559308750163\n",
            "\tCompetitiveness - Negative: 2.6391809186688544\n",
            "\tCompetitiveness - Positive: -2.388062035564091\n",
            "\tOperating Risk - Average: -0.18767454984046772\n",
            "\tOperating Risk - Negative: -0.12189418516947208\n",
            "\tOperating Risk - Positive: -0.9796683127603192\n",
            "\tBias: -1.2892370477702573\n"
          ]
        }
      ]
    },
    {
      "cell_type": "markdown",
      "source": [
        "###Feature weights for mini-batch logistic regression\n",
        "\n",
        "Average of 10 runs"
      ],
      "metadata": {
        "id": "2rL4kf4JbWmh"
      }
    },
    {
      "cell_type": "code",
      "source": [
        "n = 10\n",
        "batch_size = 16\n",
        "weights = []\n",
        "feature_names = ['Industrial Risk', 'Management Risk', 'Financial Flexibility', 'Credibility', 'Competitiveness', 'Operating Risk']\n",
        "attributes = ['Average', 'Negative', 'Positive']\n",
        "for i in range(n):\n",
        "    w, data, y_hat = test_logistic(minibatch=True, train_test_split=0.8, l_rate=0.1, b_size=batch_size, training=True, verbose=False)\n",
        "    weights.append(w)\n",
        "avg_weights = np.mean(weights, axis=0)\n",
        "print(f\"Average weights of Logistic Regression (mini-batch - batch size {batch_size}, {n} runs):\")\n",
        "for index, feature in enumerate(avg_weights):\n",
        "    if index == 18:\n",
        "        print(f'\\tBias: {feature}')\n",
        "    else:\n",
        "        print(f'\\t{feature_names[index // 3]} - {attributes[index % 3]}: {feature}')"
      ],
      "metadata": {
        "id": "fKG8FaqDbV7C",
        "colab": {
          "base_uri": "https://localhost:8080/"
        },
        "outputId": "855c5fdb-1e17-49fb-f681-380ffb864398"
      },
      "execution_count": 51,
      "outputs": [
        {
          "output_type": "stream",
          "name": "stdout",
          "text": [
            "Average weights of Logistic Regression (mini-batch - batch size 16, 10 runs):\n",
            "\tIndustrial Risk - Average: -0.8963090039663573\n",
            "\tIndustrial Risk - Negative: 0.12795746075068476\n",
            "\tIndustrial Risk - Positive: -0.6155011283757043\n",
            "\tManagement Risk - Average: -0.915131054525151\n",
            "\tManagement Risk - Negative: 0.18601601805395532\n",
            "\tManagement Risk - Positive: -0.6547376351201818\n",
            "\tFinancial Flexibility - Average: -1.530516340351744\n",
            "\tFinancial Flexibility - Negative: 1.8347761667932967\n",
            "\tFinancial Flexibility - Positive: -1.6881124980329272\n",
            "\tCredibility - Average: -1.153344569805662\n",
            "\tCredibility - Negative: 1.8009504699791017\n",
            "\tCredibility - Positive: -2.031458571764813\n",
            "\tCompetitiveness - Average: -1.6503836017965583\n",
            "\tCompetitiveness - Negative: 3.175783832704146\n",
            "\tCompetitiveness - Positive: -2.9092529024989693\n",
            "\tOperating Risk - Average: -0.2335910340302499\n",
            "\tOperating Risk - Negative: -0.07883263444138698\n",
            "\tOperating Risk - Positive: -1.0714290031197415\n",
            "\tBias: -1.3838526715913773\n"
          ]
        }
      ]
    },
    {
      "cell_type": "markdown",
      "source": [
        "##Task 3.3 Sample growing subsets of the training data"
      ],
      "metadata": {
        "id": "yd3T2EHxcxSI"
      }
    },
    {
      "cell_type": "markdown",
      "source": [
        "###Growing subsets for fully batched logistic regression"
      ],
      "metadata": {
        "id": "4IAknobTdPqY"
      }
    },
    {
      "cell_type": "markdown",
      "source": [
        "####Plot of subset size vs. cost of training/test set\n",
        "\n",
        "Mean cost of 10 runs per subset size"
      ],
      "metadata": {
        "id": "nKlJ589ndd4q"
      }
    },
    {
      "cell_type": "code",
      "source": [
        "n = 10\n",
        "splits = [0.2, 0.3, 0.4, 0.5, 0.6, 0.7, 0.8]\n",
        "split_cost_train = []\n",
        "std_train = []\n",
        "split_cost_test = []\n",
        "std_test = []\n",
        "for split in splits:\n",
        "    cost_train = []\n",
        "    cost_test = []\n",
        "    for i in range(n):\n",
        "        w, data, y_hat = test_logistic(minibatch=False, train_test_split=split, l_rate=0.1, training=True, verbose=False)\n",
        "        training_set_x, test_set_x, training_set_y, test_set_y, split_index = split_data(data, split)\n",
        "        cost_train.append(cost_fn(training_set_y, y_hat))\n",
        "        w, data, y_hat = test_logistic(minibatch=False, train_test_split=split, l_rate=0.1, training=False, verbose=False)\n",
        "        training_set_x, test_set_x, training_set_y, test_set_y, split_index = split_data(data, split)\n",
        "        cost_test.append(cost_fn(test_set_y, y_hat))\n",
        "    split_cost_train.append(np.mean(cost_train))\n",
        "    split_cost_test.append(np.mean(cost_test))\n",
        "    std_train.append(np.std(cost_train))\n",
        "    std_test.append(np.std(cost_test))\n",
        "splits = [str(split * 100) for split in splits]\n",
        "plt.errorbar(splits, split_cost_train, std_train, label='Training dataset', color='b')\n",
        "plt.errorbar(splits, split_cost_test, std_test, label='Test dataset', color='g')\n",
        "plt.xlabel('Training Subset Size (%)')\n",
        "plt.ylabel('Cross-Entropy Loss')\n",
        "plt.title('Effect of Training Size on Fully Batched Logistic Regression')\n",
        "plt.legend()\n",
        "plt.show()"
      ],
      "metadata": {
        "colab": {
          "base_uri": "https://localhost:8080/",
          "height": 295
        },
        "id": "dxD_VXfQdc_Q",
        "outputId": "89829d25-2fb5-4e17-917d-8075d9d6876c"
      },
      "execution_count": 52,
      "outputs": [
        {
          "output_type": "display_data",
          "data": {
            "text/plain": [
              "<Figure size 432x288 with 1 Axes>"
            ],
            "image/png": "[encoded data removed]"
          },
          "metadata": {
            "needs_background": "light"
          }
        }
      ]
    },
    {
      "cell_type": "markdown",
      "source": [
        "###Growing subsets for mini-batch logistic regression"
      ],
      "metadata": {
        "id": "CjgndC3Tjrgc"
      }
    },
    {
      "cell_type": "markdown",
      "source": [
        "####Plot of subset size vs. cost of training/test set\n",
        "\n",
        "Mean cost of 5 runs per subset size"
      ],
      "metadata": {
        "id": "1RFkSwmojzxI"
      }
    },
    {
      "cell_type": "code",
      "source": [
        "n = 5\n",
        "batch_size = 16\n",
        "splits = [0.2, 0.3, 0.4, 0.5, 0.6, 0.7, 0.8]\n",
        "split_cost_train = []\n",
        "split_cost_test = []\n",
        "for split in splits:\n",
        "    cost_train = []\n",
        "    cost_test = []\n",
        "    for i in range(n):\n",
        "        w, data, y_hat = test_logistic(minibatch=True, train_test_split=split, l_rate=0.1, b_size=batch_size, training=True, verbose=False)\n",
        "        training_set_x, test_set_x, training_set_y, test_set_y, split_index = split_data(data, split)\n",
        "        cost_train.append(cost_fn(training_set_y, y_hat))\n",
        "        w, data, y_hat = test_logistic(minibatch=False, train_test_split=split, l_rate=0.1, b_size=batch_size, training=False, verbose=False)\n",
        "        training_set_x, test_set_x, training_set_y, test_set_y, split_index = split_data(data, split)\n",
        "        cost_test.append(cost_fn(test_set_y, y_hat))\n",
        "    split_cost_train.append(np.mean(cost_train))\n",
        "    split_cost_test.append(np.mean(cost_test))\n",
        "splits = [str(split * 100) + \"%\" for split in splits]\n",
        "plt.plot(splits, split_cost_train, 'g', label='training data', color='c')\n",
        "plt.plot(splits, split_cost_test, 'g', label='test data', color='m')\n",
        "plt.xlabel('Training Subset Size')\n",
        "plt.ylabel('Cross-Entropy Loss')\n",
        "plt.title(\"Mini-Batch Logistic Regression Performance According to Training Subset Size\")\n",
        "plt.legend()\n",
        "plt.show()"
      ],
      "metadata": {
        "colab": {
          "base_uri": "https://localhost:8080/",
          "height": 295
        },
        "id": "tLB3s1Gcjwlv",
        "outputId": "7ef22286-fe5c-4626-d885-d2cdc922ad32"
      },
      "execution_count": 53,
      "outputs": [
        {
          "output_type": "display_data",
          "data": {
            "text/plain": [
              "<Figure size 432x288 with 1 Axes>"
            ],
            "image/png": "[encoded data removed]"
          },
          "metadata": {
            "needs_background": "light"
          }
        }
      ]
    },
    {
      "cell_type": "markdown",
      "source": [
        "##Task 3.4 Try out growing minibatch sizes"
      ],
      "metadata": {
        "id": "bQ7K-0hIk0O9"
      }
    },
    {
      "cell_type": "markdown",
      "source": [
        "###Mini-batch logistic regression performance & convergence speed"
      ],
      "metadata": {
        "id": "zntqzGDRWPfe"
      }
    },
    {
      "cell_type": "markdown",
      "source": [
        "####Plot of batch size vs. cost of test set\n",
        "\n",
        "Mean cost of 5 runs per batch size"
      ],
      "metadata": {
        "id": "PNqzSxC_WQlQ"
      }
    },
    {
      "cell_type": "code",
      "source": [
        "n = 5\n",
        "batch_sizes = [2 ** i for i in range(3, 8)]\n",
        "std_cost = []\n",
        "std_time = []\n",
        "batch_cost = []\n",
        "batch_time = []\n",
        "for batch_size in batch_sizes:\n",
        "    cost = []\n",
        "    t = []\n",
        "    for i in range(n):\n",
        "        w, data, y_hat, eps = test_logistic(minibatch=True, train_test_split=0.8, l_rate=0.1, b_size=batch_size, training=False, verbose=False, epochs=True)\n",
        "        training_set_x, test_set_x, training_set_y, test_set_y, split_index = split_data(data, 0.8)\n",
        "        cost.append(cost_fn(test_set_y, y_hat))\n",
        "        t.append(eps)\n",
        "    batch_cost.append(np.mean(cost))\n",
        "    batch_time.append(np.mean(t))\n",
        "    std_cost.append(np.std(cost))\n",
        "    std_time.append(np.std(t))\n",
        "plt.errorbar(batch_sizes, batch_cost, yerr=std_cost, label='Test dataset', color='g')\n",
        "plt.xlabel('Mini-Batch Batch Size')\n",
        "plt.ylabel('Cross-Entropy Cost')\n",
        "plt.title('Mini-batch logistic regression performance according to batch size')\n",
        "plt.legend()\n",
        "plt.show()"
      ],
      "metadata": {
        "id": "bxZ6mG0WWSC9",
        "colab": {
          "base_uri": "https://localhost:8080/",
          "height": 295
        },
        "outputId": "f83ab813-4c9c-4589-89fb-e2777923f059"
      },
      "execution_count": 54,
      "outputs": [
        {
          "output_type": "display_data",
          "data": {
            "text/plain": [
              "<Figure size 432x288 with 1 Axes>"
            ],
            "image/png": "[encoded data removed]"
          },
          "metadata": {
            "needs_background": "light"
          }
        }
      ]
    },
    {
      "cell_type": "markdown",
      "source": [
        "####Plot of batch size vs. convergence speed of model\n",
        "\n",
        "Mean convergence speed of 5 runs per batch size"
      ],
      "metadata": {
        "id": "KszCEalrWUfG"
      }
    },
    {
      "cell_type": "code",
      "source": [
        "plt.errorbar(batch_sizes, batch_time, yerr=std_time, label='Test dataset', color='gold')\n",
        "plt.xlabel('Mini-Batch Batch Size')\n",
        "plt.ylabel('Convergence Time (Epochs)')\n",
        "plt.title('Mini-Batch Logistic Regression Convergence Speed According to Batch Size')\n",
        "plt.legend()\n",
        "plt.show()"
      ],
      "metadata": {
        "id": "oQK4kwggWXsK",
        "colab": {
          "base_uri": "https://localhost:8080/",
          "height": 295
        },
        "outputId": "4e03a578-2eef-4760-e391-e898a55cd993"
      },
      "execution_count": 57,
      "outputs": [
        {
          "output_type": "display_data",
          "data": {
            "text/plain": [
              "<Figure size 432x288 with 1 Axes>"
            ],
            "image/png": "[encoded data removed]"
          },
          "metadata": {
            "needs_background": "light"
          }
        }
      ]
    },
    {
      "cell_type": "markdown",
      "source": [
        "##Task 3.5 Present the performance of both linear and logistic regression with at least three different learning rates"
      ],
      "metadata": {
        "id": "7T145dCoWbKf"
      }
    },
    {
      "cell_type": "markdown",
      "source": [
        "###Performance of fully batched logistic regression with various learning rates\n",
        "\n",
        "Learning rates: between 0.1 and 0.9 with a step size of 0.1"
      ],
      "metadata": {
        "id": "JHbPuGMmWeLa"
      }
    },
    {
      "cell_type": "code",
      "source": [
        "n = 25\n",
        "learning_rates = [10 ** i for i in range(-5, 5)]\n",
        "std = []\n",
        "rate_cost = []\n",
        "for learning_rate in learning_rates:\n",
        "    cost = []\n",
        "    for i in range(n):\n",
        "        w, data, y_hat = test_logistic(minibatch=False, train_test_split=0.8, l_rate=learning_rate,  training=False, verbose=False)\n",
        "        training_set_x, test_set_x, training_set_y, test_set_y, split_index = split_data(data, split)\n",
        "        cost.append(cost_fn(test_set_y, y_hat))\n",
        "    rate_cost.append(np.mean(cost))\n",
        "    std.append(np.std(cost))\n",
        "plt.errorbar(learning_rates, rate_cost, yerr=std, label='Test dataset', color='r')\n",
        "plt.xlabel('Learning Rate')\n",
        "plt.ylabel('Cross-Entropy Loss')\n",
        "plt.title('Fully Batched Logistic Regression Performance According to Learning Rate')\n",
        "plt.legend()\n",
        "plt.show()"
      ],
      "metadata": {
        "id": "plJtxRAvWibg",
        "colab": {
          "base_uri": "https://localhost:8080/",
          "height": 295
        },
        "outputId": "c0a34ac8-c00a-4ba4-e2d7-a08ff54ada7f"
      },
      "execution_count": 58,
      "outputs": [
        {
          "output_type": "display_data",
          "data": {
            "text/plain": [
              "<Figure size 432x288 with 1 Axes>"
            ],
            "image/png": "[encoded data removed]"
          },
          "metadata": {
            "needs_background": "light"
          }
        }
      ]
    }
  ],
  "metadata": {
    "colab": {
      "provenance": [],
      "collapsed_sections": [
        "eBN27OAFCxTV",
        "e8VrXSjt6_f_"
      ],
      "toc_visible": true
    },
    "kernelspec": {
      "display_name": "Python 3",
      "name": "python3"
    },
    "language_info": {
      "name": "python"
    }
  },
  "nbformat": 4,
  "nbformat_minor": 0
}